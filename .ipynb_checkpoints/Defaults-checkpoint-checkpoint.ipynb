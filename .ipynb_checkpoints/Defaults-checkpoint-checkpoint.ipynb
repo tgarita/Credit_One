{
 "cells": [
  {
   "cell_type": "code",
   "execution_count": 1,
   "metadata": {},
   "outputs": [],
   "source": [
    "import pandas as pd"
   ]
  },
  {
   "cell_type": "code",
   "execution_count": 2,
   "metadata": {},
   "outputs": [],
   "source": [
    "credit = pd.read_csv('default of credit card clients.csv', header=1)"
   ]
  },
  {
   "cell_type": "code",
   "execution_count": 3,
   "metadata": {},
   "outputs": [
    {
     "data": {
      "text/html": [
       "<div>\n",
       "<style scoped>\n",
       "    .dataframe tbody tr th:only-of-type {\n",
       "        vertical-align: middle;\n",
       "    }\n",
       "\n",
       "    .dataframe tbody tr th {\n",
       "        vertical-align: top;\n",
       "    }\n",
       "\n",
       "    .dataframe thead th {\n",
       "        text-align: right;\n",
       "    }\n",
       "</style>\n",
       "<table border=\"1\" class=\"dataframe\">\n",
       "  <thead>\n",
       "    <tr style=\"text-align: right;\">\n",
       "      <th></th>\n",
       "      <th>ID</th>\n",
       "      <th>LIMIT_BAL</th>\n",
       "      <th>SEX</th>\n",
       "      <th>EDUCATION</th>\n",
       "      <th>MARRIAGE</th>\n",
       "      <th>AGE</th>\n",
       "      <th>PAY_0</th>\n",
       "      <th>PAY_2</th>\n",
       "      <th>PAY_3</th>\n",
       "      <th>PAY_4</th>\n",
       "      <th>...</th>\n",
       "      <th>BILL_AMT4</th>\n",
       "      <th>BILL_AMT5</th>\n",
       "      <th>BILL_AMT6</th>\n",
       "      <th>PAY_AMT1</th>\n",
       "      <th>PAY_AMT2</th>\n",
       "      <th>PAY_AMT3</th>\n",
       "      <th>PAY_AMT4</th>\n",
       "      <th>PAY_AMT5</th>\n",
       "      <th>PAY_AMT6</th>\n",
       "      <th>default payment next month</th>\n",
       "    </tr>\n",
       "  </thead>\n",
       "  <tbody>\n",
       "    <tr>\n",
       "      <th>0</th>\n",
       "      <td>1</td>\n",
       "      <td>20000</td>\n",
       "      <td>2</td>\n",
       "      <td>2</td>\n",
       "      <td>1</td>\n",
       "      <td>24</td>\n",
       "      <td>2</td>\n",
       "      <td>2</td>\n",
       "      <td>-1</td>\n",
       "      <td>-1</td>\n",
       "      <td>...</td>\n",
       "      <td>0</td>\n",
       "      <td>0</td>\n",
       "      <td>0</td>\n",
       "      <td>0</td>\n",
       "      <td>689</td>\n",
       "      <td>0</td>\n",
       "      <td>0</td>\n",
       "      <td>0</td>\n",
       "      <td>0</td>\n",
       "      <td>1</td>\n",
       "    </tr>\n",
       "    <tr>\n",
       "      <th>1</th>\n",
       "      <td>2</td>\n",
       "      <td>120000</td>\n",
       "      <td>2</td>\n",
       "      <td>2</td>\n",
       "      <td>2</td>\n",
       "      <td>26</td>\n",
       "      <td>-1</td>\n",
       "      <td>2</td>\n",
       "      <td>0</td>\n",
       "      <td>0</td>\n",
       "      <td>...</td>\n",
       "      <td>3272</td>\n",
       "      <td>3455</td>\n",
       "      <td>3261</td>\n",
       "      <td>0</td>\n",
       "      <td>1000</td>\n",
       "      <td>1000</td>\n",
       "      <td>1000</td>\n",
       "      <td>0</td>\n",
       "      <td>2000</td>\n",
       "      <td>1</td>\n",
       "    </tr>\n",
       "    <tr>\n",
       "      <th>2</th>\n",
       "      <td>3</td>\n",
       "      <td>90000</td>\n",
       "      <td>2</td>\n",
       "      <td>2</td>\n",
       "      <td>2</td>\n",
       "      <td>34</td>\n",
       "      <td>0</td>\n",
       "      <td>0</td>\n",
       "      <td>0</td>\n",
       "      <td>0</td>\n",
       "      <td>...</td>\n",
       "      <td>14331</td>\n",
       "      <td>14948</td>\n",
       "      <td>15549</td>\n",
       "      <td>1518</td>\n",
       "      <td>1500</td>\n",
       "      <td>1000</td>\n",
       "      <td>1000</td>\n",
       "      <td>1000</td>\n",
       "      <td>5000</td>\n",
       "      <td>0</td>\n",
       "    </tr>\n",
       "    <tr>\n",
       "      <th>3</th>\n",
       "      <td>4</td>\n",
       "      <td>50000</td>\n",
       "      <td>2</td>\n",
       "      <td>2</td>\n",
       "      <td>1</td>\n",
       "      <td>37</td>\n",
       "      <td>0</td>\n",
       "      <td>0</td>\n",
       "      <td>0</td>\n",
       "      <td>0</td>\n",
       "      <td>...</td>\n",
       "      <td>28314</td>\n",
       "      <td>28959</td>\n",
       "      <td>29547</td>\n",
       "      <td>2000</td>\n",
       "      <td>2019</td>\n",
       "      <td>1200</td>\n",
       "      <td>1100</td>\n",
       "      <td>1069</td>\n",
       "      <td>1000</td>\n",
       "      <td>0</td>\n",
       "    </tr>\n",
       "    <tr>\n",
       "      <th>4</th>\n",
       "      <td>5</td>\n",
       "      <td>50000</td>\n",
       "      <td>1</td>\n",
       "      <td>2</td>\n",
       "      <td>1</td>\n",
       "      <td>57</td>\n",
       "      <td>-1</td>\n",
       "      <td>0</td>\n",
       "      <td>-1</td>\n",
       "      <td>0</td>\n",
       "      <td>...</td>\n",
       "      <td>20940</td>\n",
       "      <td>19146</td>\n",
       "      <td>19131</td>\n",
       "      <td>2000</td>\n",
       "      <td>36681</td>\n",
       "      <td>10000</td>\n",
       "      <td>9000</td>\n",
       "      <td>689</td>\n",
       "      <td>679</td>\n",
       "      <td>0</td>\n",
       "    </tr>\n",
       "  </tbody>\n",
       "</table>\n",
       "<p>5 rows × 25 columns</p>\n",
       "</div>"
      ],
      "text/plain": [
       "   ID  LIMIT_BAL  SEX  EDUCATION  MARRIAGE  AGE  PAY_0  PAY_2  PAY_3  PAY_4  \\\n",
       "0   1      20000    2          2         1   24      2      2     -1     -1   \n",
       "1   2     120000    2          2         2   26     -1      2      0      0   \n",
       "2   3      90000    2          2         2   34      0      0      0      0   \n",
       "3   4      50000    2          2         1   37      0      0      0      0   \n",
       "4   5      50000    1          2         1   57     -1      0     -1      0   \n",
       "\n",
       "   ...  BILL_AMT4  BILL_AMT5  BILL_AMT6  PAY_AMT1  PAY_AMT2  PAY_AMT3  \\\n",
       "0  ...          0          0          0         0       689         0   \n",
       "1  ...       3272       3455       3261         0      1000      1000   \n",
       "2  ...      14331      14948      15549      1518      1500      1000   \n",
       "3  ...      28314      28959      29547      2000      2019      1200   \n",
       "4  ...      20940      19146      19131      2000     36681     10000   \n",
       "\n",
       "   PAY_AMT4  PAY_AMT5  PAY_AMT6  default payment next month  \n",
       "0         0         0         0                           1  \n",
       "1      1000         0      2000                           1  \n",
       "2      1000      1000      5000                           0  \n",
       "3      1100      1069      1000                           0  \n",
       "4      9000       689       679                           0  \n",
       "\n",
       "[5 rows x 25 columns]"
      ]
     },
     "execution_count": 3,
     "metadata": {},
     "output_type": "execute_result"
    }
   ],
   "source": [
    "credit.head()"
   ]
  },
  {
   "cell_type": "code",
   "execution_count": 4,
   "metadata": {},
   "outputs": [
    {
     "data": {
      "text/html": [
       "<div>\n",
       "<style scoped>\n",
       "    .dataframe tbody tr th:only-of-type {\n",
       "        vertical-align: middle;\n",
       "    }\n",
       "\n",
       "    .dataframe tbody tr th {\n",
       "        vertical-align: top;\n",
       "    }\n",
       "\n",
       "    .dataframe thead th {\n",
       "        text-align: right;\n",
       "    }\n",
       "</style>\n",
       "<table border=\"1\" class=\"dataframe\">\n",
       "  <thead>\n",
       "    <tr style=\"text-align: right;\">\n",
       "      <th></th>\n",
       "      <th>ID</th>\n",
       "      <th>LIMIT_BAL</th>\n",
       "      <th>SEX</th>\n",
       "      <th>EDUCATION</th>\n",
       "      <th>MARRIAGE</th>\n",
       "      <th>AGE</th>\n",
       "      <th>PAY_0</th>\n",
       "      <th>PAY_2</th>\n",
       "      <th>PAY_3</th>\n",
       "      <th>PAY_4</th>\n",
       "      <th>...</th>\n",
       "      <th>BILL_AMT4</th>\n",
       "      <th>BILL_AMT5</th>\n",
       "      <th>BILL_AMT6</th>\n",
       "      <th>PAY_AMT1</th>\n",
       "      <th>PAY_AMT2</th>\n",
       "      <th>PAY_AMT3</th>\n",
       "      <th>PAY_AMT4</th>\n",
       "      <th>PAY_AMT5</th>\n",
       "      <th>PAY_AMT6</th>\n",
       "      <th>default payment next month</th>\n",
       "    </tr>\n",
       "  </thead>\n",
       "  <tbody>\n",
       "    <tr>\n",
       "      <th>count</th>\n",
       "      <td>30000.000000</td>\n",
       "      <td>30000.000000</td>\n",
       "      <td>30000.000000</td>\n",
       "      <td>30000.000000</td>\n",
       "      <td>30000.000000</td>\n",
       "      <td>30000.000000</td>\n",
       "      <td>30000.000000</td>\n",
       "      <td>30000.000000</td>\n",
       "      <td>30000.000000</td>\n",
       "      <td>30000.000000</td>\n",
       "      <td>...</td>\n",
       "      <td>30000.000000</td>\n",
       "      <td>30000.000000</td>\n",
       "      <td>30000.000000</td>\n",
       "      <td>30000.000000</td>\n",
       "      <td>3.000000e+04</td>\n",
       "      <td>30000.00000</td>\n",
       "      <td>30000.000000</td>\n",
       "      <td>30000.000000</td>\n",
       "      <td>30000.000000</td>\n",
       "      <td>30000.000000</td>\n",
       "    </tr>\n",
       "    <tr>\n",
       "      <th>mean</th>\n",
       "      <td>15000.500000</td>\n",
       "      <td>167484.322667</td>\n",
       "      <td>1.603733</td>\n",
       "      <td>1.853133</td>\n",
       "      <td>1.551867</td>\n",
       "      <td>35.485500</td>\n",
       "      <td>-0.016700</td>\n",
       "      <td>-0.133767</td>\n",
       "      <td>-0.166200</td>\n",
       "      <td>-0.220667</td>\n",
       "      <td>...</td>\n",
       "      <td>43262.948967</td>\n",
       "      <td>40311.400967</td>\n",
       "      <td>38871.760400</td>\n",
       "      <td>5663.580500</td>\n",
       "      <td>5.921163e+03</td>\n",
       "      <td>5225.68150</td>\n",
       "      <td>4826.076867</td>\n",
       "      <td>4799.387633</td>\n",
       "      <td>5215.502567</td>\n",
       "      <td>0.221200</td>\n",
       "    </tr>\n",
       "    <tr>\n",
       "      <th>std</th>\n",
       "      <td>8660.398374</td>\n",
       "      <td>129747.661567</td>\n",
       "      <td>0.489129</td>\n",
       "      <td>0.790349</td>\n",
       "      <td>0.521970</td>\n",
       "      <td>9.217904</td>\n",
       "      <td>1.123802</td>\n",
       "      <td>1.197186</td>\n",
       "      <td>1.196868</td>\n",
       "      <td>1.169139</td>\n",
       "      <td>...</td>\n",
       "      <td>64332.856134</td>\n",
       "      <td>60797.155770</td>\n",
       "      <td>59554.107537</td>\n",
       "      <td>16563.280354</td>\n",
       "      <td>2.304087e+04</td>\n",
       "      <td>17606.96147</td>\n",
       "      <td>15666.159744</td>\n",
       "      <td>15278.305679</td>\n",
       "      <td>17777.465775</td>\n",
       "      <td>0.415062</td>\n",
       "    </tr>\n",
       "    <tr>\n",
       "      <th>min</th>\n",
       "      <td>1.000000</td>\n",
       "      <td>10000.000000</td>\n",
       "      <td>1.000000</td>\n",
       "      <td>0.000000</td>\n",
       "      <td>0.000000</td>\n",
       "      <td>21.000000</td>\n",
       "      <td>-2.000000</td>\n",
       "      <td>-2.000000</td>\n",
       "      <td>-2.000000</td>\n",
       "      <td>-2.000000</td>\n",
       "      <td>...</td>\n",
       "      <td>-170000.000000</td>\n",
       "      <td>-81334.000000</td>\n",
       "      <td>-339603.000000</td>\n",
       "      <td>0.000000</td>\n",
       "      <td>0.000000e+00</td>\n",
       "      <td>0.00000</td>\n",
       "      <td>0.000000</td>\n",
       "      <td>0.000000</td>\n",
       "      <td>0.000000</td>\n",
       "      <td>0.000000</td>\n",
       "    </tr>\n",
       "    <tr>\n",
       "      <th>25%</th>\n",
       "      <td>7500.750000</td>\n",
       "      <td>50000.000000</td>\n",
       "      <td>1.000000</td>\n",
       "      <td>1.000000</td>\n",
       "      <td>1.000000</td>\n",
       "      <td>28.000000</td>\n",
       "      <td>-1.000000</td>\n",
       "      <td>-1.000000</td>\n",
       "      <td>-1.000000</td>\n",
       "      <td>-1.000000</td>\n",
       "      <td>...</td>\n",
       "      <td>2326.750000</td>\n",
       "      <td>1763.000000</td>\n",
       "      <td>1256.000000</td>\n",
       "      <td>1000.000000</td>\n",
       "      <td>8.330000e+02</td>\n",
       "      <td>390.00000</td>\n",
       "      <td>296.000000</td>\n",
       "      <td>252.500000</td>\n",
       "      <td>117.750000</td>\n",
       "      <td>0.000000</td>\n",
       "    </tr>\n",
       "    <tr>\n",
       "      <th>50%</th>\n",
       "      <td>15000.500000</td>\n",
       "      <td>140000.000000</td>\n",
       "      <td>2.000000</td>\n",
       "      <td>2.000000</td>\n",
       "      <td>2.000000</td>\n",
       "      <td>34.000000</td>\n",
       "      <td>0.000000</td>\n",
       "      <td>0.000000</td>\n",
       "      <td>0.000000</td>\n",
       "      <td>0.000000</td>\n",
       "      <td>...</td>\n",
       "      <td>19052.000000</td>\n",
       "      <td>18104.500000</td>\n",
       "      <td>17071.000000</td>\n",
       "      <td>2100.000000</td>\n",
       "      <td>2.009000e+03</td>\n",
       "      <td>1800.00000</td>\n",
       "      <td>1500.000000</td>\n",
       "      <td>1500.000000</td>\n",
       "      <td>1500.000000</td>\n",
       "      <td>0.000000</td>\n",
       "    </tr>\n",
       "    <tr>\n",
       "      <th>75%</th>\n",
       "      <td>22500.250000</td>\n",
       "      <td>240000.000000</td>\n",
       "      <td>2.000000</td>\n",
       "      <td>2.000000</td>\n",
       "      <td>2.000000</td>\n",
       "      <td>41.000000</td>\n",
       "      <td>0.000000</td>\n",
       "      <td>0.000000</td>\n",
       "      <td>0.000000</td>\n",
       "      <td>0.000000</td>\n",
       "      <td>...</td>\n",
       "      <td>54506.000000</td>\n",
       "      <td>50190.500000</td>\n",
       "      <td>49198.250000</td>\n",
       "      <td>5006.000000</td>\n",
       "      <td>5.000000e+03</td>\n",
       "      <td>4505.00000</td>\n",
       "      <td>4013.250000</td>\n",
       "      <td>4031.500000</td>\n",
       "      <td>4000.000000</td>\n",
       "      <td>0.000000</td>\n",
       "    </tr>\n",
       "    <tr>\n",
       "      <th>max</th>\n",
       "      <td>30000.000000</td>\n",
       "      <td>1000000.000000</td>\n",
       "      <td>2.000000</td>\n",
       "      <td>6.000000</td>\n",
       "      <td>3.000000</td>\n",
       "      <td>79.000000</td>\n",
       "      <td>8.000000</td>\n",
       "      <td>8.000000</td>\n",
       "      <td>8.000000</td>\n",
       "      <td>8.000000</td>\n",
       "      <td>...</td>\n",
       "      <td>891586.000000</td>\n",
       "      <td>927171.000000</td>\n",
       "      <td>961664.000000</td>\n",
       "      <td>873552.000000</td>\n",
       "      <td>1.684259e+06</td>\n",
       "      <td>896040.00000</td>\n",
       "      <td>621000.000000</td>\n",
       "      <td>426529.000000</td>\n",
       "      <td>528666.000000</td>\n",
       "      <td>1.000000</td>\n",
       "    </tr>\n",
       "  </tbody>\n",
       "</table>\n",
       "<p>8 rows × 25 columns</p>\n",
       "</div>"
      ],
      "text/plain": [
       "                 ID       LIMIT_BAL           SEX     EDUCATION      MARRIAGE  \\\n",
       "count  30000.000000    30000.000000  30000.000000  30000.000000  30000.000000   \n",
       "mean   15000.500000   167484.322667      1.603733      1.853133      1.551867   \n",
       "std     8660.398374   129747.661567      0.489129      0.790349      0.521970   \n",
       "min        1.000000    10000.000000      1.000000      0.000000      0.000000   \n",
       "25%     7500.750000    50000.000000      1.000000      1.000000      1.000000   \n",
       "50%    15000.500000   140000.000000      2.000000      2.000000      2.000000   \n",
       "75%    22500.250000   240000.000000      2.000000      2.000000      2.000000   \n",
       "max    30000.000000  1000000.000000      2.000000      6.000000      3.000000   \n",
       "\n",
       "                AGE         PAY_0         PAY_2         PAY_3         PAY_4  \\\n",
       "count  30000.000000  30000.000000  30000.000000  30000.000000  30000.000000   \n",
       "mean      35.485500     -0.016700     -0.133767     -0.166200     -0.220667   \n",
       "std        9.217904      1.123802      1.197186      1.196868      1.169139   \n",
       "min       21.000000     -2.000000     -2.000000     -2.000000     -2.000000   \n",
       "25%       28.000000     -1.000000     -1.000000     -1.000000     -1.000000   \n",
       "50%       34.000000      0.000000      0.000000      0.000000      0.000000   \n",
       "75%       41.000000      0.000000      0.000000      0.000000      0.000000   \n",
       "max       79.000000      8.000000      8.000000      8.000000      8.000000   \n",
       "\n",
       "       ...      BILL_AMT4      BILL_AMT5      BILL_AMT6       PAY_AMT1  \\\n",
       "count  ...   30000.000000   30000.000000   30000.000000   30000.000000   \n",
       "mean   ...   43262.948967   40311.400967   38871.760400    5663.580500   \n",
       "std    ...   64332.856134   60797.155770   59554.107537   16563.280354   \n",
       "min    ... -170000.000000  -81334.000000 -339603.000000       0.000000   \n",
       "25%    ...    2326.750000    1763.000000    1256.000000    1000.000000   \n",
       "50%    ...   19052.000000   18104.500000   17071.000000    2100.000000   \n",
       "75%    ...   54506.000000   50190.500000   49198.250000    5006.000000   \n",
       "max    ...  891586.000000  927171.000000  961664.000000  873552.000000   \n",
       "\n",
       "           PAY_AMT2      PAY_AMT3       PAY_AMT4       PAY_AMT5  \\\n",
       "count  3.000000e+04   30000.00000   30000.000000   30000.000000   \n",
       "mean   5.921163e+03    5225.68150    4826.076867    4799.387633   \n",
       "std    2.304087e+04   17606.96147   15666.159744   15278.305679   \n",
       "min    0.000000e+00       0.00000       0.000000       0.000000   \n",
       "25%    8.330000e+02     390.00000     296.000000     252.500000   \n",
       "50%    2.009000e+03    1800.00000    1500.000000    1500.000000   \n",
       "75%    5.000000e+03    4505.00000    4013.250000    4031.500000   \n",
       "max    1.684259e+06  896040.00000  621000.000000  426529.000000   \n",
       "\n",
       "            PAY_AMT6  default payment next month  \n",
       "count   30000.000000                30000.000000  \n",
       "mean     5215.502567                    0.221200  \n",
       "std     17777.465775                    0.415062  \n",
       "min         0.000000                    0.000000  \n",
       "25%       117.750000                    0.000000  \n",
       "50%      1500.000000                    0.000000  \n",
       "75%      4000.000000                    0.000000  \n",
       "max    528666.000000                    1.000000  \n",
       "\n",
       "[8 rows x 25 columns]"
      ]
     },
     "execution_count": 4,
     "metadata": {},
     "output_type": "execute_result"
    }
   ],
   "source": [
    "credit.describe()"
   ]
  },
  {
   "cell_type": "code",
   "execution_count": 5,
   "metadata": {},
   "outputs": [],
   "source": [
    "#Todas las variables tienen formato numérico, pero no para todas esto es correcto, como por ejemplo: \n",
    "#el sexo, nivel de educación y estado civil. No se tienen valores perdidos en ninguna de las variables. \n",
    "#En la variable límite se muestran valores atípicos, hay mucha diferencia entre el percentil 75 \n",
    "#y el valor máximo, lo mismo pasa en las facturas y los pagos."
   ]
  },
  {
   "cell_type": "code",
   "execution_count": 5,
   "metadata": {},
   "outputs": [
    {
     "name": "stdout",
     "output_type": "stream",
     "text": [
      "<class 'pandas.core.frame.DataFrame'>\n",
      "RangeIndex: 30000 entries, 0 to 29999\n",
      "Data columns (total 25 columns):\n",
      "ID                            30000 non-null int64\n",
      "LIMIT_BAL                     30000 non-null int64\n",
      "SEX                           30000 non-null int64\n",
      "EDUCATION                     30000 non-null int64\n",
      "MARRIAGE                      30000 non-null int64\n",
      "AGE                           30000 non-null int64\n",
      "PAY_0                         30000 non-null int64\n",
      "PAY_2                         30000 non-null int64\n",
      "PAY_3                         30000 non-null int64\n",
      "PAY_4                         30000 non-null int64\n",
      "PAY_5                         30000 non-null int64\n",
      "PAY_6                         30000 non-null int64\n",
      "BILL_AMT1                     30000 non-null int64\n",
      "BILL_AMT2                     30000 non-null int64\n",
      "BILL_AMT3                     30000 non-null int64\n",
      "BILL_AMT4                     30000 non-null int64\n",
      "BILL_AMT5                     30000 non-null int64\n",
      "BILL_AMT6                     30000 non-null int64\n",
      "PAY_AMT1                      30000 non-null int64\n",
      "PAY_AMT2                      30000 non-null int64\n",
      "PAY_AMT3                      30000 non-null int64\n",
      "PAY_AMT4                      30000 non-null int64\n",
      "PAY_AMT5                      30000 non-null int64\n",
      "PAY_AMT6                      30000 non-null int64\n",
      "default payment next month    30000 non-null int64\n",
      "dtypes: int64(25)\n",
      "memory usage: 5.7 MB\n"
     ]
    }
   ],
   "source": [
    "credit.info()"
   ]
  },
  {
   "cell_type": "code",
   "execution_count": 3,
   "metadata": {},
   "outputs": [],
   "source": [
    "import numpy as np"
   ]
  },
  {
   "cell_type": "code",
   "execution_count": 4,
   "metadata": {},
   "outputs": [
    {
     "data": {
      "text/plain": [
       "0        2\n",
       "1        2\n",
       "2        2\n",
       "3        2\n",
       "4        1\n",
       "5        1\n",
       "6        1\n",
       "7        2\n",
       "8        2\n",
       "9        1\n",
       "10       2\n",
       "11       2\n",
       "12       2\n",
       "13       1\n",
       "14       1\n",
       "15       2\n",
       "16       1\n",
       "17       1\n",
       "18       2\n",
       "19       2\n",
       "20       2\n",
       "21       2\n",
       "22       2\n",
       "23       2\n",
       "24       1\n",
       "25       1\n",
       "26       1\n",
       "27       2\n",
       "28       2\n",
       "29       1\n",
       "        ..\n",
       "29970    1\n",
       "29971    1\n",
       "29972    1\n",
       "29973    1\n",
       "29974    1\n",
       "29975    1\n",
       "29976    1\n",
       "29977    1\n",
       "29978    1\n",
       "29979    1\n",
       "29980    1\n",
       "29981    1\n",
       "29982    1\n",
       "29983    1\n",
       "29984    1\n",
       "29985    1\n",
       "29986    1\n",
       "29987    1\n",
       "29988    1\n",
       "29989    1\n",
       "29990    1\n",
       "29991    1\n",
       "29992    1\n",
       "29993    1\n",
       "29994    1\n",
       "29995    1\n",
       "29996    1\n",
       "29997    1\n",
       "29998    1\n",
       "29999    1\n",
       "Name: SEX, Length: 30000, dtype: object"
      ]
     },
     "execution_count": 4,
     "metadata": {},
     "output_type": "execute_result"
    }
   ],
   "source": [
    "credit['SEX'].apply(str)"
   ]
  },
  {
   "cell_type": "code",
   "execution_count": 5,
   "metadata": {},
   "outputs": [
    {
     "data": {
      "text/plain": [
       "0        2\n",
       "1        2\n",
       "2        2\n",
       "3        2\n",
       "4        2\n",
       "5        1\n",
       "6        1\n",
       "7        2\n",
       "8        3\n",
       "9        3\n",
       "10       3\n",
       "11       1\n",
       "12       2\n",
       "13       2\n",
       "14       1\n",
       "15       3\n",
       "16       1\n",
       "17       1\n",
       "18       1\n",
       "19       1\n",
       "20       3\n",
       "21       2\n",
       "22       2\n",
       "23       1\n",
       "24       1\n",
       "25       3\n",
       "26       1\n",
       "27       3\n",
       "28       3\n",
       "29       1\n",
       "        ..\n",
       "29970    1\n",
       "29971    3\n",
       "29972    1\n",
       "29973    2\n",
       "29974    2\n",
       "29975    2\n",
       "29976    2\n",
       "29977    1\n",
       "29978    2\n",
       "29979    1\n",
       "29980    3\n",
       "29981    2\n",
       "29982    2\n",
       "29983    2\n",
       "29984    2\n",
       "29985    1\n",
       "29986    1\n",
       "29987    1\n",
       "29988    1\n",
       "29989    1\n",
       "29990    2\n",
       "29991    2\n",
       "29992    3\n",
       "29993    1\n",
       "29994    2\n",
       "29995    3\n",
       "29996    3\n",
       "29997    2\n",
       "29998    3\n",
       "29999    2\n",
       "Name: EDUCATION, Length: 30000, dtype: object"
      ]
     },
     "execution_count": 5,
     "metadata": {},
     "output_type": "execute_result"
    }
   ],
   "source": [
    "credit['EDUCATION'].apply(str)"
   ]
  },
  {
   "cell_type": "code",
   "execution_count": 6,
   "metadata": {},
   "outputs": [
    {
     "data": {
      "text/plain": [
       "0        1\n",
       "1        2\n",
       "2        2\n",
       "3        1\n",
       "4        1\n",
       "5        2\n",
       "6        2\n",
       "7        2\n",
       "8        1\n",
       "9        2\n",
       "10       2\n",
       "11       2\n",
       "12       2\n",
       "13       2\n",
       "14       2\n",
       "15       3\n",
       "16       2\n",
       "17       1\n",
       "18       1\n",
       "19       2\n",
       "20       2\n",
       "21       1\n",
       "22       2\n",
       "23       1\n",
       "24       2\n",
       "25       2\n",
       "26       2\n",
       "27       2\n",
       "28       1\n",
       "29       2\n",
       "        ..\n",
       "29970    1\n",
       "29971    1\n",
       "29972    1\n",
       "29973    1\n",
       "29974    1\n",
       "29975    1\n",
       "29976    2\n",
       "29977    2\n",
       "29978    1\n",
       "29979    1\n",
       "29980    2\n",
       "29981    1\n",
       "29982    1\n",
       "29983    1\n",
       "29984    2\n",
       "29985    2\n",
       "29986    2\n",
       "29987    2\n",
       "29988    1\n",
       "29989    2\n",
       "29990    1\n",
       "29991    1\n",
       "29992    1\n",
       "29993    2\n",
       "29994    2\n",
       "29995    1\n",
       "29996    2\n",
       "29997    2\n",
       "29998    1\n",
       "29999    1\n",
       "Name: MARRIAGE, Length: 30000, dtype: object"
      ]
     },
     "execution_count": 6,
     "metadata": {},
     "output_type": "execute_result"
    }
   ],
   "source": [
    "credit['MARRIAGE'].apply(str)"
   ]
  },
  {
   "cell_type": "code",
   "execution_count": 11,
   "metadata": {},
   "outputs": [
    {
     "data": {
      "text/plain": [
       "0        1\n",
       "1        1\n",
       "2        0\n",
       "3        0\n",
       "4        0\n",
       "5        0\n",
       "6        0\n",
       "7        0\n",
       "8        0\n",
       "9        0\n",
       "10       0\n",
       "11       0\n",
       "12       0\n",
       "13       1\n",
       "14       0\n",
       "15       0\n",
       "16       1\n",
       "17       0\n",
       "18       0\n",
       "19       0\n",
       "20       0\n",
       "21       1\n",
       "22       1\n",
       "23       1\n",
       "24       0\n",
       "25       0\n",
       "26       1\n",
       "27       0\n",
       "28       0\n",
       "29       0\n",
       "        ..\n",
       "29970    0\n",
       "29971    0\n",
       "29972    0\n",
       "29973    1\n",
       "29974    1\n",
       "29975    0\n",
       "29976    1\n",
       "29977    0\n",
       "29978    0\n",
       "29979    0\n",
       "29980    0\n",
       "29981    0\n",
       "29982    1\n",
       "29983    0\n",
       "29984    0\n",
       "29985    0\n",
       "29986    0\n",
       "29987    0\n",
       "29988    0\n",
       "29989    0\n",
       "29990    0\n",
       "29991    1\n",
       "29992    0\n",
       "29993    0\n",
       "29994    1\n",
       "29995    0\n",
       "29996    0\n",
       "29997    1\n",
       "29998    1\n",
       "29999    1\n",
       "Name: default payment next month, Length: 30000, dtype: object"
      ]
     },
     "execution_count": 11,
     "metadata": {},
     "output_type": "execute_result"
    }
   ],
   "source": [
    "credit['default payment next month'].apply(str)"
   ]
  },
  {
   "cell_type": "code",
   "execution_count": 7,
   "metadata": {},
   "outputs": [
    {
     "data": {
      "text/plain": [
       "0         2\n",
       "1        -1\n",
       "2         0\n",
       "3         0\n",
       "4        -1\n",
       "5         0\n",
       "6         0\n",
       "7         0\n",
       "8         0\n",
       "9        -2\n",
       "10        0\n",
       "11       -1\n",
       "12       -1\n",
       "13        1\n",
       "14        0\n",
       "15        1\n",
       "16        0\n",
       "17        0\n",
       "18        1\n",
       "19        1\n",
       "20        0\n",
       "21       -1\n",
       "22        2\n",
       "23       -2\n",
       "24        0\n",
       "25        0\n",
       "26        1\n",
       "27        0\n",
       "28       -1\n",
       "29        0\n",
       "         ..\n",
       "29970    -1\n",
       "29971     0\n",
       "29972     0\n",
       "29973     1\n",
       "29974     1\n",
       "29975     0\n",
       "29976     2\n",
       "29977     0\n",
       "29978     0\n",
       "29979    -2\n",
       "29980     0\n",
       "29981     1\n",
       "29982     0\n",
       "29983    -2\n",
       "29984    -1\n",
       "29985    -2\n",
       "29986    -1\n",
       "29987     0\n",
       "29988     0\n",
       "29989    -1\n",
       "29990     0\n",
       "29991     3\n",
       "29992     0\n",
       "29993     0\n",
       "29994     2\n",
       "29995     0\n",
       "29996    -1\n",
       "29997     4\n",
       "29998     1\n",
       "29999     0\n",
       "Name: PAY_0, Length: 30000, dtype: object"
      ]
     },
     "execution_count": 7,
     "metadata": {},
     "output_type": "execute_result"
    }
   ],
   "source": [
    "credit['PAY_0'].apply(str)"
   ]
  },
  {
   "cell_type": "code",
   "execution_count": 20,
   "metadata": {},
   "outputs": [
    {
     "data": {
      "text/plain": [
       "0         2\n",
       "1         2\n",
       "2         0\n",
       "3         0\n",
       "4         0\n",
       "5         0\n",
       "6         0\n",
       "7        -1\n",
       "8         0\n",
       "9        -2\n",
       "10        0\n",
       "11       -1\n",
       "12        0\n",
       "13        2\n",
       "14        0\n",
       "15        2\n",
       "16        0\n",
       "17        0\n",
       "18       -2\n",
       "19       -2\n",
       "20        0\n",
       "21       -1\n",
       "22        0\n",
       "23       -2\n",
       "24        0\n",
       "25        0\n",
       "26       -2\n",
       "27        0\n",
       "28       -1\n",
       "29        0\n",
       "         ..\n",
       "29970    -1\n",
       "29971     0\n",
       "29972     0\n",
       "29973    -2\n",
       "29974     2\n",
       "29975     0\n",
       "29976     2\n",
       "29977     0\n",
       "29978     0\n",
       "29979    -2\n",
       "29980     0\n",
       "29981     2\n",
       "29982     0\n",
       "29983    -2\n",
       "29984    -1\n",
       "29985    -2\n",
       "29986    -1\n",
       "29987     0\n",
       "29988     0\n",
       "29989    -1\n",
       "29990     0\n",
       "29991     2\n",
       "29992     0\n",
       "29993    -1\n",
       "29994     2\n",
       "29995     0\n",
       "29996    -1\n",
       "29997     3\n",
       "29998    -1\n",
       "29999     0\n",
       "Name: PAY_2, Length: 30000, dtype: object"
      ]
     },
     "execution_count": 20,
     "metadata": {},
     "output_type": "execute_result"
    }
   ],
   "source": [
    "credit['PAY_2'].apply(str)"
   ]
  },
  {
   "cell_type": "code",
   "execution_count": 8,
   "metadata": {},
   "outputs": [
    {
     "data": {
      "text/plain": [
       "0        -1\n",
       "1         0\n",
       "2         0\n",
       "3         0\n",
       "4        -1\n",
       "5         0\n",
       "6         0\n",
       "7        -1\n",
       "8         2\n",
       "9        -2\n",
       "10        2\n",
       "11       -1\n",
       "12       -1\n",
       "13        2\n",
       "14        0\n",
       "15        0\n",
       "16        2\n",
       "17        0\n",
       "18       -2\n",
       "19       -2\n",
       "20        0\n",
       "21       -1\n",
       "22        0\n",
       "23       -2\n",
       "24        0\n",
       "25        0\n",
       "26       -1\n",
       "27        0\n",
       "28       -1\n",
       "29        0\n",
       "         ..\n",
       "29970    -1\n",
       "29971     0\n",
       "29972     0\n",
       "29973    -2\n",
       "29974     2\n",
       "29975    -1\n",
       "29976     3\n",
       "29977     0\n",
       "29978     0\n",
       "29979    -2\n",
       "29980     0\n",
       "29981     2\n",
       "29982     0\n",
       "29983    -2\n",
       "29984    -2\n",
       "29985    -2\n",
       "29986    -2\n",
       "29987     0\n",
       "29988     0\n",
       "29989    -1\n",
       "29990     0\n",
       "29991     2\n",
       "29992     0\n",
       "29993    -1\n",
       "29994     2\n",
       "29995     0\n",
       "29996    -1\n",
       "29997     2\n",
       "29998     0\n",
       "29999     0\n",
       "Name: PAY_3, Length: 30000, dtype: object"
      ]
     },
     "execution_count": 8,
     "metadata": {},
     "output_type": "execute_result"
    }
   ],
   "source": [
    "credit['PAY_3'].apply(str)"
   ]
  },
  {
   "cell_type": "code",
   "execution_count": 9,
   "metadata": {},
   "outputs": [
    {
     "data": {
      "text/plain": [
       "0        -1\n",
       "1         0\n",
       "2         0\n",
       "3         0\n",
       "4         0\n",
       "5         0\n",
       "6         0\n",
       "7         0\n",
       "8         0\n",
       "9        -2\n",
       "10        0\n",
       "11       -1\n",
       "12       -1\n",
       "13        0\n",
       "14        0\n",
       "15        0\n",
       "16        2\n",
       "17       -1\n",
       "18       -2\n",
       "19       -2\n",
       "20        0\n",
       "21       -1\n",
       "22        2\n",
       "23       -2\n",
       "24       -1\n",
       "25        0\n",
       "26       -1\n",
       "27        0\n",
       "28       -1\n",
       "29        0\n",
       "         ..\n",
       "29970     0\n",
       "29971     0\n",
       "29972     0\n",
       "29973    -2\n",
       "29974     2\n",
       "29975    -1\n",
       "29976     2\n",
       "29977     0\n",
       "29978     0\n",
       "29979    -2\n",
       "29980     0\n",
       "29981     2\n",
       "29982     0\n",
       "29983    -2\n",
       "29984    -1\n",
       "29985    -2\n",
       "29986    -2\n",
       "29987     0\n",
       "29988     0\n",
       "29989    -1\n",
       "29990     0\n",
       "29991     2\n",
       "29992    -2\n",
       "29993     0\n",
       "29994     2\n",
       "29995     0\n",
       "29996    -1\n",
       "29997    -1\n",
       "29998     0\n",
       "29999     0\n",
       "Name: PAY_4, Length: 30000, dtype: object"
      ]
     },
     "execution_count": 9,
     "metadata": {},
     "output_type": "execute_result"
    }
   ],
   "source": [
    "credit['PAY_4'].apply(str)"
   ]
  },
  {
   "cell_type": "code",
   "execution_count": 23,
   "metadata": {},
   "outputs": [
    {
     "data": {
      "text/plain": [
       "0        -2\n",
       "1         0\n",
       "2         0\n",
       "3         0\n",
       "4         0\n",
       "5         0\n",
       "6         0\n",
       "7         0\n",
       "8         0\n",
       "9        -1\n",
       "10        0\n",
       "11       -1\n",
       "12       -1\n",
       "13        0\n",
       "14        0\n",
       "15        0\n",
       "16        2\n",
       "17       -1\n",
       "18       -2\n",
       "19       -2\n",
       "20        0\n",
       "21       -1\n",
       "22        2\n",
       "23       -2\n",
       "24        0\n",
       "25        0\n",
       "26       -1\n",
       "27        0\n",
       "28       -1\n",
       "29        0\n",
       "         ..\n",
       "29970     0\n",
       "29971     0\n",
       "29972     0\n",
       "29973    -2\n",
       "29974     0\n",
       "29975    -2\n",
       "29976     2\n",
       "29977     0\n",
       "29978     0\n",
       "29979    -2\n",
       "29980     0\n",
       "29981     0\n",
       "29982     0\n",
       "29983    -2\n",
       "29984    -1\n",
       "29985    -2\n",
       "29986    -2\n",
       "29987     0\n",
       "29988     0\n",
       "29989    -1\n",
       "29990     0\n",
       "29991     2\n",
       "29992    -2\n",
       "29993     0\n",
       "29994     2\n",
       "29995     0\n",
       "29996     0\n",
       "29997     0\n",
       "29998     0\n",
       "29999     0\n",
       "Name: PAY_5, Length: 30000, dtype: object"
      ]
     },
     "execution_count": 23,
     "metadata": {},
     "output_type": "execute_result"
    }
   ],
   "source": [
    "credit['PAY_5'].apply(str)"
   ]
  },
  {
   "cell_type": "code",
   "execution_count": 10,
   "metadata": {},
   "outputs": [
    {
     "data": {
      "text/plain": [
       "0        -2\n",
       "1         2\n",
       "2         0\n",
       "3         0\n",
       "4         0\n",
       "5         0\n",
       "6         0\n",
       "7        -1\n",
       "8         0\n",
       "9        -1\n",
       "10       -1\n",
       "11        2\n",
       "12       -1\n",
       "13        2\n",
       "14        0\n",
       "15        0\n",
       "16        2\n",
       "17       -1\n",
       "18       -2\n",
       "19       -2\n",
       "20       -1\n",
       "21       -1\n",
       "22        2\n",
       "23       -2\n",
       "24        0\n",
       "25        0\n",
       "26       -1\n",
       "27        0\n",
       "28       -1\n",
       "29        0\n",
       "         ..\n",
       "29970    -1\n",
       "29971     0\n",
       "29972    -1\n",
       "29973    -2\n",
       "29974     0\n",
       "29975    -2\n",
       "29976     2\n",
       "29977     0\n",
       "29978     0\n",
       "29979    -2\n",
       "29980     0\n",
       "29981     0\n",
       "29982     0\n",
       "29983    -2\n",
       "29984    -1\n",
       "29985    -2\n",
       "29986    -2\n",
       "29987     0\n",
       "29988     0\n",
       "29989    -2\n",
       "29990     0\n",
       "29991     2\n",
       "29992    -2\n",
       "29993     0\n",
       "29994     2\n",
       "29995     0\n",
       "29996     0\n",
       "29997     0\n",
       "29998    -1\n",
       "29999     0\n",
       "Name: PAY_6, Length: 30000, dtype: object"
      ]
     },
     "execution_count": 10,
     "metadata": {},
     "output_type": "execute_result"
    }
   ],
   "source": [
    "credit['PAY_6'].apply(str)"
   ]
  },
  {
   "cell_type": "code",
   "execution_count": 11,
   "metadata": {},
   "outputs": [],
   "source": [
    "credit['SEX'] = credit['SEX'].apply(str)"
   ]
  },
  {
   "cell_type": "code",
   "execution_count": 12,
   "metadata": {},
   "outputs": [],
   "source": [
    "credit['EDUCATION'] = credit['EDUCATION'].apply(str)"
   ]
  },
  {
   "cell_type": "code",
   "execution_count": 13,
   "metadata": {},
   "outputs": [],
   "source": [
    "credit['MARRIAGE'] = credit['MARRIAGE'].apply(str)"
   ]
  },
  {
   "cell_type": "code",
   "execution_count": 14,
   "metadata": {},
   "outputs": [],
   "source": [
    "credit['PAY_0'] = credit['PAY_0'].apply(str)"
   ]
  },
  {
   "cell_type": "code",
   "execution_count": 15,
   "metadata": {},
   "outputs": [],
   "source": [
    "credit['PAY_2'] = credit['PAY_2'].apply(str)"
   ]
  },
  {
   "cell_type": "code",
   "execution_count": 16,
   "metadata": {},
   "outputs": [],
   "source": [
    "credit['PAY_3'] = credit['PAY_3'].apply(str)"
   ]
  },
  {
   "cell_type": "code",
   "execution_count": 17,
   "metadata": {},
   "outputs": [],
   "source": [
    "credit['PAY_4'] = credit['PAY_4'].apply(str)"
   ]
  },
  {
   "cell_type": "code",
   "execution_count": 18,
   "metadata": {},
   "outputs": [],
   "source": [
    "credit['PAY_5'] = credit['PAY_5'].apply(str)"
   ]
  },
  {
   "cell_type": "code",
   "execution_count": 19,
   "metadata": {},
   "outputs": [],
   "source": [
    "credit['PAY_6'] = credit['PAY_6'].apply(str)"
   ]
  },
  {
   "cell_type": "code",
   "execution_count": 20,
   "metadata": {},
   "outputs": [],
   "source": [
    "credit['default payment next month'] = credit['default payment next month'].apply(str)"
   ]
  },
  {
   "cell_type": "code",
   "execution_count": 25,
   "metadata": {},
   "outputs": [
    {
     "name": "stdout",
     "output_type": "stream",
     "text": [
      "<class 'pandas.core.frame.DataFrame'>\n",
      "RangeIndex: 30000 entries, 0 to 29999\n",
      "Data columns (total 25 columns):\n",
      "ID                            30000 non-null int64\n",
      "LIMIT_BAL                     30000 non-null int64\n",
      "SEX                           30000 non-null object\n",
      "EDUCATION                     30000 non-null object\n",
      "MARRIAGE                      30000 non-null object\n",
      "AGE                           30000 non-null int64\n",
      "PAY_0                         30000 non-null object\n",
      "PAY_2                         30000 non-null object\n",
      "PAY_3                         30000 non-null object\n",
      "PAY_4                         30000 non-null object\n",
      "PAY_5                         30000 non-null object\n",
      "PAY_6                         30000 non-null object\n",
      "BILL_AMT1                     30000 non-null int64\n",
      "BILL_AMT2                     30000 non-null int64\n",
      "BILL_AMT3                     30000 non-null int64\n",
      "BILL_AMT4                     30000 non-null int64\n",
      "BILL_AMT5                     30000 non-null int64\n",
      "BILL_AMT6                     30000 non-null int64\n",
      "PAY_AMT1                      30000 non-null int64\n",
      "PAY_AMT2                      30000 non-null int64\n",
      "PAY_AMT3                      30000 non-null int64\n",
      "PAY_AMT4                      30000 non-null int64\n",
      "PAY_AMT5                      30000 non-null int64\n",
      "PAY_AMT6                      30000 non-null int64\n",
      "default payment next month    30000 non-null object\n",
      "dtypes: int64(15), object(10)\n",
      "memory usage: 5.7+ MB\n"
     ]
    }
   ],
   "source": [
    "credit.info()"
   ]
  },
  {
   "cell_type": "code",
   "execution_count": 21,
   "metadata": {},
   "outputs": [],
   "source": [
    "import matplotlib as mt"
   ]
  },
  {
   "cell_type": "code",
   "execution_count": 22,
   "metadata": {},
   "outputs": [
    {
     "data": {
      "text/plain": [
       "array([[<matplotlib.axes._subplots.AxesSubplot object at 0x0000014CFA15BF60>]],\n",
       "      dtype=object)"
      ]
     },
     "execution_count": 22,
     "metadata": {},
     "output_type": "execute_result"
    }
   ],
   "source": [
    "credit.hist(column='LIMIT_BAL')"
   ]
  },
  {
   "cell_type": "code",
   "execution_count": 23,
   "metadata": {},
   "outputs": [
    {
     "data": {
      "text/plain": [
       "array([[<matplotlib.axes._subplots.AxesSubplot object at 0x0000014CFE323BE0>]],\n",
       "      dtype=object)"
      ]
     },
     "execution_count": 23,
     "metadata": {},
     "output_type": "execute_result"
    },
    {
     "data": {
      "image/png": "[encoded data removed]",
      "text/plain": [
       "<Figure size 432x288 with 1 Axes>"
      ]
     },
     "metadata": {
      "needs_background": "light"
     },
     "output_type": "display_data"
    }
   ],
   "source": [
    "credit.hist(column='AGE')"
   ]
  },
  {
   "cell_type": "code",
   "execution_count": 24,
   "metadata": {},
   "outputs": [],
   "source": [
    "import matplotlib.pyplot as plt"
   ]
  },
  {
   "cell_type": "code",
   "execution_count": 27,
   "metadata": {},
   "outputs": [
    {
     "data": {
      "image/png": "[encoded data removed]",
      "text/plain": [
       "<Figure size 432x288 with 1 Axes>"
      ]
     },
     "metadata": {
      "needs_background": "light"
     },
     "output_type": "display_data"
    }
   ],
   "source": [
    "plt.hist(credit['BILL_AMT1'])\n",
    "plt.show()"
   ]
  },
  {
   "cell_type": "code",
   "execution_count": 28,
   "metadata": {},
   "outputs": [
    {
     "data": {
      "image/png": "[encoded data removed]",
      "text/plain": [
       "<Figure size 432x288 with 1 Axes>"
      ]
     },
     "metadata": {
      "needs_background": "light"
     },
     "output_type": "display_data"
    }
   ],
   "source": [
    "plt.hist(credit['BILL_AMT2'])\n",
    "plt.show()"
   ]
  },
  {
   "cell_type": "code",
   "execution_count": 29,
   "metadata": {},
   "outputs": [
    {
     "data": {
      "image/png": "[encoded data removed]",
      "text/plain": [
       "<Figure size 432x288 with 1 Axes>"
      ]
     },
     "metadata": {
      "needs_background": "light"
     },
     "output_type": "display_data"
    }
   ],
   "source": [
    "plt.hist(credit['BILL_AMT3'])\n",
    "plt.show()"
   ]
  },
  {
   "cell_type": "code",
   "execution_count": 30,
   "metadata": {},
   "outputs": [
    {
     "data": {
      "image/png": "[encoded data removed]",
      "text/plain": [
       "<Figure size 432x288 with 1 Axes>"
      ]
     },
     "metadata": {
      "needs_background": "light"
     },
     "output_type": "display_data"
    }
   ],
   "source": [
    "plt.hist(credit['BILL_AMT6'])\n",
    "plt.show()"
   ]
  },
  {
   "cell_type": "code",
   "execution_count": 31,
   "metadata": {},
   "outputs": [
    {
     "data": {
      "image/png": "[encoded data removed]",
      "text/plain": [
       "<Figure size 432x288 with 1 Axes>"
      ]
     },
     "metadata": {
      "needs_background": "light"
     },
     "output_type": "display_data"
    }
   ],
   "source": [
    "plt.hist(credit['PAY_AMT1'])\n",
    "plt.show()"
   ]
  },
  {
   "cell_type": "code",
   "execution_count": 36,
   "metadata": {},
   "outputs": [
    {
     "data": {
      "image/png": "[encoded data removed]",
      "text/plain": [
       "<Figure size 432x288 with 1 Axes>"
      ]
     },
     "metadata": {
      "needs_background": "light"
     },
     "output_type": "display_data"
    }
   ],
   "source": [
    "plt.hist(credit['PAY_AMT2'])\n",
    "plt.show()"
   ]
  },
  {
   "cell_type": "code",
   "execution_count": 32,
   "metadata": {},
   "outputs": [
    {
     "data": {
      "image/png": "[encoded data removed]",
      "text/plain": [
       "<Figure size 432x288 with 1 Axes>"
      ]
     },
     "metadata": {
      "needs_background": "light"
     },
     "output_type": "display_data"
    }
   ],
   "source": [
    "plt.hist(credit['PAY_AMT3'])\n",
    "plt.show()"
   ]
  },
  {
   "cell_type": "code",
   "execution_count": 33,
   "metadata": {},
   "outputs": [
    {
     "data": {
      "image/png": "[encoded data removed]",
      "text/plain": [
       "<Figure size 432x288 with 1 Axes>"
      ]
     },
     "metadata": {
      "needs_background": "light"
     },
     "output_type": "display_data"
    }
   ],
   "source": [
    "plt.hist(credit['PAY_AMT6'])\n",
    "plt.show()"
   ]
  },
  {
   "cell_type": "code",
   "execution_count": 34,
   "metadata": {},
   "outputs": [
    {
     "data": {
      "image/png": "[encoded data removed]",
      "text/plain": [
       "<Figure size 432x288 with 1 Axes>"
      ]
     },
     "metadata": {
      "needs_background": "light"
     },
     "output_type": "display_data"
    }
   ],
   "source": [
    "plt.hist(credit['PAY_AMT5'], bins=50)\n",
    "plt.show()"
   ]
  },
  {
   "cell_type": "code",
   "execution_count": 25,
   "metadata": {},
   "outputs": [],
   "source": [
    "credit['Q']=1"
   ]
  },
  {
   "cell_type": "code",
   "execution_count": 26,
   "metadata": {},
   "outputs": [],
   "source": [
    "import matplotlib"
   ]
  },
  {
   "cell_type": "code",
   "execution_count": 27,
   "metadata": {},
   "outputs": [],
   "source": [
    "%matplotlib inline"
   ]
  },
  {
   "cell_type": "code",
   "execution_count": 28,
   "metadata": {},
   "outputs": [],
   "source": [
    "Q1=credit.groupby('SEX').count().Q"
   ]
  },
  {
   "cell_type": "code",
   "execution_count": 29,
   "metadata": {},
   "outputs": [
    {
     "data": {
      "text/plain": [
       "SEX\n",
       "1    11888\n",
       "2    18112\n",
       "Name: Q, dtype: int64"
      ]
     },
     "execution_count": 29,
     "metadata": {},
     "output_type": "execute_result"
    }
   ],
   "source": [
    "Q1"
   ]
  },
  {
   "cell_type": "code",
   "execution_count": 40,
   "metadata": {},
   "outputs": [
    {
     "data": {
      "text/plain": [
       "<matplotlib.axes._subplots.AxesSubplot at 0x29243f9ad30>"
      ]
     },
     "execution_count": 40,
     "metadata": {},
     "output_type": "execute_result"
    },
    {
     "data": {
      "image/png": "[encoded data removed]",
      "text/plain": [
       "<Figure size 432x288 with 1 Axes>"
      ]
     },
     "metadata": {
      "needs_background": "light"
     },
     "output_type": "display_data"
    }
   ],
   "source": [
    "Q1.plot.bar()"
   ]
  },
  {
   "cell_type": "code",
   "execution_count": null,
   "metadata": {},
   "outputs": [],
   "source": [
    "#El 60% de los clientes son mujeres"
   ]
  },
  {
   "cell_type": "code",
   "execution_count": 30,
   "metadata": {},
   "outputs": [],
   "source": [
    "Q2=credit.groupby('EDUCATION').count().Q"
   ]
  },
  {
   "cell_type": "code",
   "execution_count": 31,
   "metadata": {},
   "outputs": [
    {
     "data": {
      "text/plain": [
       "<matplotlib.axes._subplots.AxesSubplot at 0x14cfe3c2ef0>"
      ]
     },
     "execution_count": 31,
     "metadata": {},
     "output_type": "execute_result"
    },
    {
     "data": {
      "image/png": "[encoded data removed]",
      "text/plain": [
       "<Figure size 432x288 with 1 Axes>"
      ]
     },
     "metadata": {
      "needs_background": "light"
     },
     "output_type": "display_data"
    }
   ],
   "source": [
    "Q2.plot.bar()"
   ]
  },
  {
   "cell_type": "code",
   "execution_count": 61,
   "metadata": {},
   "outputs": [],
   "source": [
    "#El 47% de los clientes son graduados de la Universidad, un 35% solo tiene primaria y un 16% tiene secundaria."
   ]
  },
  {
   "cell_type": "markdown",
   "metadata": {},
   "source": [
    "credit[['SEX']].plot.bar()"
   ]
  },
  {
   "cell_type": "code",
   "execution_count": 32,
   "metadata": {},
   "outputs": [],
   "source": [
    "Q3=credit.groupby('MARRIAGE').count().Q"
   ]
  },
  {
   "cell_type": "code",
   "execution_count": 33,
   "metadata": {},
   "outputs": [
    {
     "data": {
      "text/plain": [
       "<matplotlib.axes._subplots.AxesSubplot at 0x14cfb9d3710>"
      ]
     },
     "execution_count": 33,
     "metadata": {},
     "output_type": "execute_result"
    },
    {
     "data": {
      "image/png": "[encoded data removed]",
      "text/plain": [
       "<Figure size 432x288 with 1 Axes>"
      ]
     },
     "metadata": {
      "needs_background": "light"
     },
     "output_type": "display_data"
    }
   ],
   "source": [
    "Q3.plot.bar()"
   ]
  },
  {
   "cell_type": "code",
   "execution_count": 34,
   "metadata": {},
   "outputs": [],
   "source": [
    "#Un 53% está soltero y un 46% está casado."
   ]
  },
  {
   "cell_type": "code",
   "execution_count": 35,
   "metadata": {},
   "outputs": [],
   "source": [
    "Q4=credit.groupby('default payment next month').count().Q"
   ]
  },
  {
   "cell_type": "code",
   "execution_count": 36,
   "metadata": {},
   "outputs": [
    {
     "data": {
      "text/plain": [
       "<matplotlib.axes._subplots.AxesSubplot at 0x14cfba45b38>"
      ]
     },
     "execution_count": 36,
     "metadata": {},
     "output_type": "execute_result"
    },
    {
     "data": {
      "image/png": "[encoded data removed]",
      "text/plain": [
       "<Figure size 432x288 with 1 Axes>"
      ]
     },
     "metadata": {
      "needs_background": "light"
     },
     "output_type": "display_data"
    }
   ],
   "source": [
    "Q4.plot.bar()"
   ]
  },
  {
   "cell_type": "code",
   "execution_count": null,
   "metadata": {},
   "outputs": [],
   "source": [
    "#Un 22% de los clientes de la muestra han caído en default."
   ]
  },
  {
   "cell_type": "code",
   "execution_count": 37,
   "metadata": {},
   "outputs": [
    {
     "data": {
      "text/plain": [
       "ID            18000.4\n",
       "LIMIT_BAL    180000.0\n",
       "AGE              37.0\n",
       "BILL_AMT1     37045.2\n",
       "BILL_AMT2     34773.8\n",
       "BILL_AMT3     31401.0\n",
       "BILL_AMT4     28604.4\n",
       "BILL_AMT5     26690.4\n",
       "BILL_AMT6     25508.4\n",
       "PAY_AMT1       3000.0\n",
       "PAY_AMT2       3000.0\n",
       "PAY_AMT3       2500.0\n",
       "PAY_AMT4       2100.0\n",
       "PAY_AMT5       2123.4\n",
       "PAY_AMT6       2100.0\n",
       "Q                 1.0\n",
       "Name: 0.6, dtype: float64"
      ]
     },
     "execution_count": 37,
     "metadata": {},
     "output_type": "execute_result"
    }
   ],
   "source": [
    "credit.quantile(0.6)"
   ]
  },
  {
   "cell_type": "code",
   "execution_count": 38,
   "metadata": {},
   "outputs": [
    {
     "data": {
      "text/plain": [
       "ID            29700.01\n",
       "LIMIT_BAL    500000.00\n",
       "AGE              60.00\n",
       "BILL_AMT1    350110.68\n",
       "BILL_AMT2    337495.28\n",
       "BILL_AMT3    325030.39\n",
       "BILL_AMT4    304997.27\n",
       "BILL_AMT5    285868.33\n",
       "BILL_AMT6    279505.06\n",
       "PAY_AMT1      66522.18\n",
       "PAY_AMT2      76651.02\n",
       "PAY_AMT3      70000.00\n",
       "PAY_AMT4      67054.44\n",
       "PAY_AMT5      65607.56\n",
       "PAY_AMT6      82619.05\n",
       "Q                 1.00\n",
       "Name: 0.99, dtype: float64"
      ]
     },
     "execution_count": 38,
     "metadata": {},
     "output_type": "execute_result"
    }
   ],
   "source": [
    "credit.quantile(0.99)"
   ]
  },
  {
   "cell_type": "code",
   "execution_count": 49,
   "metadata": {},
   "outputs": [
    {
     "data": {
      "image/png": "[encoded data removed]",
      "text/plain": [
       "<Figure size 432x288 with 1 Axes>"
      ]
     },
     "metadata": {
      "needs_background": "light"
     },
     "output_type": "display_data"
    }
   ],
   "source": [
    "plt.plot(credit['LIMIT_BAL'])\n",
    "plt.show()"
   ]
  },
  {
   "cell_type": "code",
   "execution_count": 38,
   "metadata": {},
   "outputs": [],
   "source": [
    "#Valores atípicos en límites se confirman con gráfico de línea."
   ]
  },
  {
   "cell_type": "code",
   "execution_count": 50,
   "metadata": {},
   "outputs": [
    {
     "data": {
      "image/png": "[encoded data removed]",
      "text/plain": [
       "<Figure size 432x288 with 1 Axes>"
      ]
     },
     "metadata": {
      "needs_background": "light"
     },
     "output_type": "display_data"
    }
   ],
   "source": [
    "plt.plot(credit['BILL_AMT1'])\n",
    "plt.show()"
   ]
  },
  {
   "cell_type": "code",
   "execution_count": 42,
   "metadata": {},
   "outputs": [],
   "source": [
    "#Valores atípicos en BILL_AMT"
   ]
  },
  {
   "cell_type": "code",
   "execution_count": 51,
   "metadata": {},
   "outputs": [
    {
     "data": {
      "image/png": "[encoded data removed]",
      "text/plain": [
       "<Figure size 432x288 with 1 Axes>"
      ]
     },
     "metadata": {
      "needs_background": "light"
     },
     "output_type": "display_data"
    }
   ],
   "source": [
    "plt.plot(credit['BILL_AMT2'])\n",
    "plt.show()"
   ]
  },
  {
   "cell_type": "code",
   "execution_count": 44,
   "metadata": {},
   "outputs": [
    {
     "data": {
      "image/png": "[encoded data removed]",
      "text/plain": [
       "<Figure size 432x288 with 1 Axes>"
      ]
     },
     "metadata": {
      "needs_background": "light"
     },
     "output_type": "display_data"
    }
   ],
   "source": [
    "plt.plot(credit['PAY_AMT2'])\n",
    "plt.show()"
   ]
  },
  {
   "cell_type": "code",
   "execution_count": 45,
   "metadata": {},
   "outputs": [
    {
     "data": {
      "image/png": "[encoded data removed]",
      "text/plain": [
       "<Figure size 432x288 with 1 Axes>"
      ]
     },
     "metadata": {
      "needs_background": "light"
     },
     "output_type": "display_data"
    }
   ],
   "source": [
    "plt.plot(credit['PAY_AMT4'])\n",
    "plt.show()"
   ]
  },
  {
   "cell_type": "code",
   "execution_count": 52,
   "metadata": {},
   "outputs": [],
   "source": [
    "#Scatter plots\n",
    "x=credit['PAY_0']\n",
    "y=credit['PAY_2']"
   ]
  },
  {
   "cell_type": "code",
   "execution_count": 53,
   "metadata": {},
   "outputs": [
    {
     "data": {
      "image/png": "[encoded data removed]",
      "text/plain": [
       "<Figure size 432x288 with 1 Axes>"
      ]
     },
     "metadata": {
      "needs_background": "light"
     },
     "output_type": "display_data"
    }
   ],
   "source": [
    "plt.scatter(x,y)\n",
    "plt.show()"
   ]
  },
  {
   "cell_type": "code",
   "execution_count": 54,
   "metadata": {},
   "outputs": [],
   "source": [
    "A=credit['BILL_AMT1']\n",
    "B=credit['PAY_AMT1']"
   ]
  },
  {
   "cell_type": "code",
   "execution_count": 55,
   "metadata": {},
   "outputs": [
    {
     "data": {
      "image/png": "[encoded data removed]",
      "text/plain": [
       "<Figure size 432x288 with 1 Axes>"
      ]
     },
     "metadata": {
      "needs_background": "light"
     },
     "output_type": "display_data"
    }
   ],
   "source": [
    "plt.scatter(A,B)\n",
    "plt.show()"
   ]
  },
  {
   "cell_type": "code",
   "execution_count": 50,
   "metadata": {},
   "outputs": [],
   "source": [
    "C=credit['BILL_AMT6']\n",
    "D=credit['PAY_AMT6']"
   ]
  },
  {
   "cell_type": "code",
   "execution_count": 56,
   "metadata": {},
   "outputs": [
    {
     "ename": "NameError",
     "evalue": "name 'C' is not defined",
     "output_type": "error",
     "traceback": [
      "\u001b[1;31m---------------------------------------------------------------------------\u001b[0m",
      "\u001b[1;31mNameError\u001b[0m                                 Traceback (most recent call last)",
      "\u001b[1;32m<ipython-input-56-9a1cce8fcd07>\u001b[0m in \u001b[0;36m<module>\u001b[1;34m\u001b[0m\n\u001b[1;32m----> 1\u001b[1;33m \u001b[0mplt\u001b[0m\u001b[1;33m.\u001b[0m\u001b[0mscatter\u001b[0m\u001b[1;33m(\u001b[0m\u001b[0mC\u001b[0m\u001b[1;33m,\u001b[0m\u001b[0mD\u001b[0m\u001b[1;33m)\u001b[0m\u001b[1;33m\u001b[0m\u001b[1;33m\u001b[0m\u001b[0m\n\u001b[0m\u001b[0;32m      2\u001b[0m \u001b[0mplt\u001b[0m\u001b[1;33m.\u001b[0m\u001b[0mshow\u001b[0m\u001b[1;33m(\u001b[0m\u001b[1;33m)\u001b[0m\u001b[1;33m\u001b[0m\u001b[1;33m\u001b[0m\u001b[0m\n",
      "\u001b[1;31mNameError\u001b[0m: name 'C' is not defined"
     ]
    }
   ],
   "source": [
    "plt.scatter(C,D)\n",
    "plt.show()"
   ]
  },
  {
   "cell_type": "code",
   "execution_count": 57,
   "metadata": {},
   "outputs": [],
   "source": [
    "E=credit['PAY_0']\n",
    "F=credit['PAY_AMT6']"
   ]
  },
  {
   "cell_type": "code",
   "execution_count": 53,
   "metadata": {},
   "outputs": [
    {
     "data": {
      "image/png": "[encoded data removed]",
      "text/plain": [
       "<Figure size 432x288 with 1 Axes>"
      ]
     },
     "metadata": {
      "needs_background": "light"
     },
     "output_type": "display_data"
    }
   ],
   "source": [
    "plt.scatter(E,F)\n",
    "plt.show()"
   ]
  },
  {
   "cell_type": "code",
   "execution_count": 58,
   "metadata": {},
   "outputs": [
    {
     "data": {
      "image/png": "[encoded data removed]",
      "text/plain": [
       "<Figure size 432x288 with 1 Axes>"
      ]
     },
     "metadata": {
      "needs_background": "light"
     },
     "output_type": "display_data"
    }
   ],
   "source": [
    "#Box plots\n",
    "G= credit['LIMIT_BAL']\n",
    "plt.boxplot(G,0,'gD')\n",
    "plt.show()"
   ]
  },
  {
   "cell_type": "code",
   "execution_count": 59,
   "metadata": {},
   "outputs": [
    {
     "data": {
      "image/png": "[encoded data removed]",
      "text/plain": [
       "<Figure size 432x288 with 1 Axes>"
      ]
     },
     "metadata": {
      "needs_background": "light"
     },
     "output_type": "display_data"
    }
   ],
   "source": [
    "H= credit['PAY_AMT2']\n",
    "plt.boxplot(H,0,'gD')\n",
    "plt.show()"
   ]
  },
  {
   "cell_type": "code",
   "execution_count": 56,
   "metadata": {},
   "outputs": [],
   "source": [
    "#Variable con muchos valores extremos, el box plot no se puede apreciar."
   ]
  },
  {
   "cell_type": "code",
   "execution_count": 60,
   "metadata": {},
   "outputs": [
    {
     "data": {
      "image/png": "[encoded data removed]",
      "text/plain": [
       "<Figure size 432x288 with 1 Axes>"
      ]
     },
     "metadata": {
      "needs_background": "light"
     },
     "output_type": "display_data"
    }
   ],
   "source": [
    "J= credit['PAY_AMT3']\n",
    "plt.boxplot(J,0,'gD')\n",
    "plt.show()"
   ]
  },
  {
   "cell_type": "code",
   "execution_count": 58,
   "metadata": {},
   "outputs": [
    {
     "data": {
      "image/png": "[encoded data removed]",
      "text/plain": [
       "<Figure size 432x288 with 1 Axes>"
      ]
     },
     "metadata": {
      "needs_background": "light"
     },
     "output_type": "display_data"
    }
   ],
   "source": [
    "K= credit['BILL_AMT3']\n",
    "plt.boxplot(K,0,'gD')\n",
    "plt.show()"
   ]
  },
  {
   "cell_type": "code",
   "execution_count": 61,
   "metadata": {},
   "outputs": [
    {
     "name": "stdout",
     "output_type": "stream",
     "text": [
      "                 ID  LIMIT_BAL       AGE  BILL_AMT1  BILL_AMT2  BILL_AMT3  \\\n",
      "ID         1.000000   0.026179  0.018678   0.019389   0.017982   0.024354   \n",
      "LIMIT_BAL  0.026179   1.000000  0.144713   0.285430   0.278314   0.283236   \n",
      "AGE        0.018678   0.144713  1.000000   0.056239   0.054283   0.053710   \n",
      "BILL_AMT1  0.019389   0.285430  0.056239   1.000000   0.951484   0.892279   \n",
      "BILL_AMT2  0.017982   0.278314  0.054283   0.951484   1.000000   0.928326   \n",
      "BILL_AMT3  0.024354   0.283236  0.053710   0.892279   0.928326   1.000000   \n",
      "BILL_AMT4  0.040351   0.293988  0.051353   0.860272   0.892482   0.923969   \n",
      "BILL_AMT5  0.016705   0.295562  0.049345   0.829779   0.859778   0.883910   \n",
      "BILL_AMT6  0.016730   0.290389  0.047613   0.802650   0.831594   0.853320   \n",
      "PAY_AMT1   0.009742   0.195236  0.026147   0.140277   0.280365   0.244335   \n",
      "PAY_AMT2   0.008406   0.178408  0.021785   0.099355   0.100851   0.316936   \n",
      "PAY_AMT3   0.039151   0.210167  0.029247   0.156887   0.150718   0.130011   \n",
      "PAY_AMT4   0.007793   0.203242  0.021379   0.158303   0.147398   0.143405   \n",
      "PAY_AMT5   0.000652   0.217202  0.022850   0.167026   0.157957   0.179712   \n",
      "PAY_AMT6   0.003000   0.219595  0.019478   0.179341   0.174256   0.182326   \n",
      "Q               NaN        NaN       NaN        NaN        NaN        NaN   \n",
      "\n",
      "           BILL_AMT4  BILL_AMT5  BILL_AMT6  PAY_AMT1  PAY_AMT2  PAY_AMT3  \\\n",
      "ID          0.040351   0.016705   0.016730  0.009742  0.008406  0.039151   \n",
      "LIMIT_BAL   0.293988   0.295562   0.290389  0.195236  0.178408  0.210167   \n",
      "AGE         0.051353   0.049345   0.047613  0.026147  0.021785  0.029247   \n",
      "BILL_AMT1   0.860272   0.829779   0.802650  0.140277  0.099355  0.156887   \n",
      "BILL_AMT2   0.892482   0.859778   0.831594  0.280365  0.100851  0.150718   \n",
      "BILL_AMT3   0.923969   0.883910   0.853320  0.244335  0.316936  0.130011   \n",
      "BILL_AMT4   1.000000   0.940134   0.900941  0.233012  0.207564  0.300023   \n",
      "BILL_AMT5   0.940134   1.000000   0.946197  0.217031  0.181246  0.252305   \n",
      "BILL_AMT6   0.900941   0.946197   1.000000  0.199965  0.172663  0.233770   \n",
      "PAY_AMT1    0.233012   0.217031   0.199965  1.000000  0.285576  0.252191   \n",
      "PAY_AMT2    0.207564   0.181246   0.172663  0.285576  1.000000  0.244770   \n",
      "PAY_AMT3    0.300023   0.252305   0.233770  0.252191  0.244770  1.000000   \n",
      "PAY_AMT4    0.130191   0.293118   0.250237  0.199558  0.180107  0.216325   \n",
      "PAY_AMT5    0.160433   0.141574   0.307729  0.148459  0.180908  0.159214   \n",
      "PAY_AMT6    0.177637   0.164184   0.115494  0.185735  0.157634  0.162740   \n",
      "Q                NaN        NaN        NaN       NaN       NaN       NaN   \n",
      "\n",
      "           PAY_AMT4  PAY_AMT5  PAY_AMT6   Q  \n",
      "ID         0.007793  0.000652  0.003000 NaN  \n",
      "LIMIT_BAL  0.203242  0.217202  0.219595 NaN  \n",
      "AGE        0.021379  0.022850  0.019478 NaN  \n",
      "BILL_AMT1  0.158303  0.167026  0.179341 NaN  \n",
      "BILL_AMT2  0.147398  0.157957  0.174256 NaN  \n",
      "BILL_AMT3  0.143405  0.179712  0.182326 NaN  \n",
      "BILL_AMT4  0.130191  0.160433  0.177637 NaN  \n",
      "BILL_AMT5  0.293118  0.141574  0.164184 NaN  \n",
      "BILL_AMT6  0.250237  0.307729  0.115494 NaN  \n",
      "PAY_AMT1   0.199558  0.148459  0.185735 NaN  \n",
      "PAY_AMT2   0.180107  0.180908  0.157634 NaN  \n",
      "PAY_AMT3   0.216325  0.159214  0.162740 NaN  \n",
      "PAY_AMT4   1.000000  0.151830  0.157834 NaN  \n",
      "PAY_AMT5   0.151830  1.000000  0.154896 NaN  \n",
      "PAY_AMT6   0.157834  0.154896  1.000000 NaN  \n",
      "Q               NaN       NaN       NaN NaN  \n"
     ]
    }
   ],
   "source": [
    "#Correlation\n",
    "corrMat = credit.corr()\n",
    "print(corrMat)"
   ]
  },
  {
   "cell_type": "code",
   "execution_count": 60,
   "metadata": {},
   "outputs": [],
   "source": [
    "#Los pagos están altamente correlacionados de manera positiva, muestran correlaciones mayores al 50%.\n",
    "#De igual manera las variables Bill_amt, con correlaciones iguales o mayores al 80%"
   ]
  },
  {
   "cell_type": "code",
   "execution_count": 62,
   "metadata": {},
   "outputs": [
    {
     "name": "stdout",
     "output_type": "stream",
     "text": [
      "                     ID     LIMIT_BAL            AGE     BILL_AMT1  \\\n",
      "ID         7.500250e+07  2.941664e+07    1491.057019  1.236447e+07   \n",
      "LIMIT_BAL  2.941664e+07  1.683446e+10  173076.722569  2.727020e+09   \n",
      "AGE        1.491057e+03  1.730767e+05      84.969755  3.817293e+04   \n",
      "BILL_AMT1  1.236447e+07  2.727020e+09   38172.933546  5.422240e+09   \n",
      "BILL_AMT2  1.108392e+07  2.570130e+09   35613.657962  4.986670e+09   \n",
      "BILL_AMT3  1.462688e+07  2.548533e+09   34334.251320  4.556511e+09   \n",
      "BILL_AMT4  2.248126e+07  2.453926e+09   30453.108180  4.075286e+09   \n",
      "BILL_AMT5  8.795803e+06  2.331481e+09   27654.067800  3.714795e+09   \n",
      "BILL_AMT6  8.628506e+06  2.243837e+09   26137.648547  3.519876e+09   \n",
      "PAY_AMT1   1.397501e+06  4.195711e+08    3992.041735  1.710894e+08   \n",
      "PAY_AMT2   1.677383e+06  5.333504e+08    4626.861549  1.685692e+08   \n",
      "PAY_AMT3   5.969803e+06  4.801180e+08    4746.824393  2.034048e+08   \n",
      "PAY_AMT4   1.057334e+06  4.131202e+08    3087.324192  1.826164e+08   \n",
      "PAY_AMT5   8.629502e+04  4.305657e+08    3218.052172  1.879091e+08   \n",
      "PAY_AMT6   4.618460e+05  5.065153e+08    3191.903901  2.347681e+08   \n",
      "Q          0.000000e+00  0.000000e+00       0.000000  0.000000e+00   \n",
      "\n",
      "              BILL_AMT2     BILL_AMT3     BILL_AMT4     BILL_AMT5  \\\n",
      "ID         1.108392e+07  1.462688e+07  2.248126e+07  8.795803e+06   \n",
      "LIMIT_BAL  2.570130e+09  2.548533e+09  2.453926e+09  2.331481e+09   \n",
      "AGE        3.561366e+04  3.433425e+04  3.045311e+04  2.765407e+04   \n",
      "BILL_AMT1  4.986670e+09  4.556511e+09  4.075286e+09  3.714795e+09   \n",
      "BILL_AMT2  5.065705e+09  4.582086e+09  4.086508e+09  3.720401e+09   \n",
      "BILL_AMT3  4.582086e+09  4.809338e+09  4.122238e+09  3.726780e+09   \n",
      "BILL_AMT4  4.086508e+09  4.122238e+09  4.138716e+09  3.677105e+09   \n",
      "BILL_AMT5  3.720401e+09  3.726780e+09  3.677105e+09  3.696294e+09   \n",
      "BILL_AMT6  3.524868e+09  3.524247e+09  3.451762e+09  3.425914e+09   \n",
      "PAY_AMT1   3.305146e+08  2.806565e+08  2.482888e+08  2.185501e+08   \n",
      "PAY_AMT2   1.653859e+08  5.064226e+08  3.076686e+08  2.538936e+08   \n",
      "PAY_AMT3   1.888731e+08  1.587478e+08  3.398374e+08  2.700805e+08   \n",
      "PAY_AMT4   1.643518e+08  1.558003e+08  1.312133e+08  2.791830e+08   \n",
      "PAY_AMT5   1.717652e+08  1.904126e+08  1.576892e+08  1.315051e+08   \n",
      "PAY_AMT6   2.204845e+08  2.247817e+08  2.031590e+08  1.774537e+08   \n",
      "Q          0.000000e+00  0.000000e+00  0.000000e+00  0.000000e+00   \n",
      "\n",
      "              BILL_AMT6      PAY_AMT1      PAY_AMT2      PAY_AMT3  \\\n",
      "ID         8.628506e+06  1.397501e+06  1.677383e+06  5.969803e+06   \n",
      "LIMIT_BAL  2.243837e+09  4.195711e+08  5.333504e+08  4.801180e+08   \n",
      "AGE        2.613765e+04  3.992042e+03  4.626862e+03  4.746824e+03   \n",
      "BILL_AMT1  3.519876e+09  1.710894e+08  1.685692e+08  2.034048e+08   \n",
      "BILL_AMT2  3.524868e+09  3.305146e+08  1.653859e+08  1.888731e+08   \n",
      "BILL_AMT3  3.524247e+09  2.806565e+08  5.064226e+08  1.587478e+08   \n",
      "BILL_AMT4  3.451762e+09  2.482888e+08  3.076686e+08  3.398374e+08   \n",
      "BILL_AMT5  3.425914e+09  2.185501e+08  2.538936e+08  2.700805e+08   \n",
      "BILL_AMT6  3.546692e+09  1.972478e+08  2.369244e+08  2.451233e+08   \n",
      "PAY_AMT1   1.972478e+08  2.743423e+08  1.089849e+08  7.354626e+07   \n",
      "PAY_AMT2   2.369244e+08  1.089849e+08  5.308817e+08  9.929841e+07   \n",
      "PAY_AMT3   2.451233e+08  7.354626e+07  9.929841e+07  3.100051e+08   \n",
      "PAY_AMT4   2.334670e+08  5.178189e+07  6.501168e+07  5.966970e+07   \n",
      "PAY_AMT5   2.799982e+08  3.756893e+07  6.368414e+07  4.282921e+07   \n",
      "PAY_AMT6   1.222761e+08  5.469033e+07  6.456816e+07  5.093879e+07   \n",
      "Q          0.000000e+00  0.000000e+00  0.000000e+00  0.000000e+00   \n",
      "\n",
      "               PAY_AMT4      PAY_AMT5      PAY_AMT6    Q  \n",
      "ID         1.057334e+06  8.629502e+04  4.618460e+05  0.0  \n",
      "LIMIT_BAL  4.131202e+08  4.305657e+08  5.065153e+08  0.0  \n",
      "AGE        3.087324e+03  3.218052e+03  3.191904e+03  0.0  \n",
      "BILL_AMT1  1.826164e+08  1.879091e+08  2.347681e+08  0.0  \n",
      "BILL_AMT2  1.643518e+08  1.717652e+08  2.204845e+08  0.0  \n",
      "BILL_AMT3  1.558003e+08  1.904126e+08  2.247817e+08  0.0  \n",
      "BILL_AMT4  1.312133e+08  1.576892e+08  2.031590e+08  0.0  \n",
      "BILL_AMT5  2.791830e+08  1.315051e+08  1.774537e+08  0.0  \n",
      "BILL_AMT6  2.334670e+08  2.799982e+08  1.222761e+08  0.0  \n",
      "PAY_AMT1   5.178189e+07  3.756893e+07  5.469033e+07  0.0  \n",
      "PAY_AMT2   6.501168e+07  6.368414e+07  6.456816e+07  0.0  \n",
      "PAY_AMT3   5.966970e+07  4.282921e+07  5.093879e+07  0.0  \n",
      "PAY_AMT4   2.454286e+08  3.634098e+07  4.395747e+07  0.0  \n",
      "PAY_AMT5   3.634098e+07  2.334266e+08  4.207110e+07  0.0  \n",
      "PAY_AMT6   4.395747e+07  4.207110e+07  3.160383e+08  0.0  \n",
      "Q          0.000000e+00  0.000000e+00  0.000000e+00  0.0  \n"
     ]
    }
   ],
   "source": [
    "#Covariance\n",
    "covMat = credit.cov()\n",
    "print(covMat)"
   ]
  },
  {
   "cell_type": "code",
   "execution_count": 39,
   "metadata": {},
   "outputs": [],
   "source": [
    "credit2=credit.iloc[:,1:25]"
   ]
  },
  {
   "cell_type": "code",
   "execution_count": 40,
   "metadata": {},
   "outputs": [
    {
     "name": "stdout",
     "output_type": "stream",
     "text": [
      "              LIMIT_BAL            AGE     BILL_AMT1     BILL_AMT2  \\\n",
      "LIMIT_BAL  1.683446e+10  173076.722569  2.727020e+09  2.570130e+09   \n",
      "AGE        1.730767e+05      84.969755  3.817293e+04  3.561366e+04   \n",
      "BILL_AMT1  2.727020e+09   38172.933546  5.422240e+09  4.986670e+09   \n",
      "BILL_AMT2  2.570130e+09   35613.657962  4.986670e+09  5.065705e+09   \n",
      "BILL_AMT3  2.548533e+09   34334.251320  4.556511e+09  4.582086e+09   \n",
      "BILL_AMT4  2.453926e+09   30453.108180  4.075286e+09  4.086508e+09   \n",
      "BILL_AMT5  2.331481e+09   27654.067800  3.714795e+09  3.720401e+09   \n",
      "BILL_AMT6  2.243837e+09   26137.648547  3.519876e+09  3.524868e+09   \n",
      "PAY_AMT1   4.195711e+08    3992.041735  1.710894e+08  3.305146e+08   \n",
      "PAY_AMT2   5.333504e+08    4626.861549  1.685692e+08  1.653859e+08   \n",
      "PAY_AMT3   4.801180e+08    4746.824393  2.034048e+08  1.888731e+08   \n",
      "PAY_AMT4   4.131202e+08    3087.324192  1.826164e+08  1.643518e+08   \n",
      "PAY_AMT5   4.305657e+08    3218.052172  1.879091e+08  1.717652e+08   \n",
      "PAY_AMT6   5.065153e+08    3191.903901  2.347681e+08  2.204845e+08   \n",
      "\n",
      "              BILL_AMT3     BILL_AMT4     BILL_AMT5     BILL_AMT6  \\\n",
      "LIMIT_BAL  2.548533e+09  2.453926e+09  2.331481e+09  2.243837e+09   \n",
      "AGE        3.433425e+04  3.045311e+04  2.765407e+04  2.613765e+04   \n",
      "BILL_AMT1  4.556511e+09  4.075286e+09  3.714795e+09  3.519876e+09   \n",
      "BILL_AMT2  4.582086e+09  4.086508e+09  3.720401e+09  3.524868e+09   \n",
      "BILL_AMT3  4.809338e+09  4.122238e+09  3.726780e+09  3.524247e+09   \n",
      "BILL_AMT4  4.122238e+09  4.138716e+09  3.677105e+09  3.451762e+09   \n",
      "BILL_AMT5  3.726780e+09  3.677105e+09  3.696294e+09  3.425914e+09   \n",
      "BILL_AMT6  3.524247e+09  3.451762e+09  3.425914e+09  3.546692e+09   \n",
      "PAY_AMT1   2.806565e+08  2.482888e+08  2.185501e+08  1.972478e+08   \n",
      "PAY_AMT2   5.064226e+08  3.076686e+08  2.538936e+08  2.369244e+08   \n",
      "PAY_AMT3   1.587478e+08  3.398374e+08  2.700805e+08  2.451233e+08   \n",
      "PAY_AMT4   1.558003e+08  1.312133e+08  2.791830e+08  2.334670e+08   \n",
      "PAY_AMT5   1.904126e+08  1.576892e+08  1.315051e+08  2.799982e+08   \n",
      "PAY_AMT6   2.247817e+08  2.031590e+08  1.774537e+08  1.222761e+08   \n",
      "\n",
      "               PAY_AMT1      PAY_AMT2      PAY_AMT3      PAY_AMT4  \\\n",
      "LIMIT_BAL  4.195711e+08  5.333504e+08  4.801180e+08  4.131202e+08   \n",
      "AGE        3.992042e+03  4.626862e+03  4.746824e+03  3.087324e+03   \n",
      "BILL_AMT1  1.710894e+08  1.685692e+08  2.034048e+08  1.826164e+08   \n",
      "BILL_AMT2  3.305146e+08  1.653859e+08  1.888731e+08  1.643518e+08   \n",
      "BILL_AMT3  2.806565e+08  5.064226e+08  1.587478e+08  1.558003e+08   \n",
      "BILL_AMT4  2.482888e+08  3.076686e+08  3.398374e+08  1.312133e+08   \n",
      "BILL_AMT5  2.185501e+08  2.538936e+08  2.700805e+08  2.791830e+08   \n",
      "BILL_AMT6  1.972478e+08  2.369244e+08  2.451233e+08  2.334670e+08   \n",
      "PAY_AMT1   2.743423e+08  1.089849e+08  7.354626e+07  5.178189e+07   \n",
      "PAY_AMT2   1.089849e+08  5.308817e+08  9.929841e+07  6.501168e+07   \n",
      "PAY_AMT3   7.354626e+07  9.929841e+07  3.100051e+08  5.966970e+07   \n",
      "PAY_AMT4   5.178189e+07  6.501168e+07  5.966970e+07  2.454286e+08   \n",
      "PAY_AMT5   3.756893e+07  6.368414e+07  4.282921e+07  3.634098e+07   \n",
      "PAY_AMT6   5.469033e+07  6.456816e+07  5.093879e+07  4.395747e+07   \n",
      "\n",
      "               PAY_AMT5      PAY_AMT6  \n",
      "LIMIT_BAL  4.305657e+08  5.065153e+08  \n",
      "AGE        3.218052e+03  3.191904e+03  \n",
      "BILL_AMT1  1.879091e+08  2.347681e+08  \n",
      "BILL_AMT2  1.717652e+08  2.204845e+08  \n",
      "BILL_AMT3  1.904126e+08  2.247817e+08  \n",
      "BILL_AMT4  1.576892e+08  2.031590e+08  \n",
      "BILL_AMT5  1.315051e+08  1.774537e+08  \n",
      "BILL_AMT6  2.799982e+08  1.222761e+08  \n",
      "PAY_AMT1   3.756893e+07  5.469033e+07  \n",
      "PAY_AMT2   6.368414e+07  6.456816e+07  \n",
      "PAY_AMT3   4.282921e+07  5.093879e+07  \n",
      "PAY_AMT4   3.634098e+07  4.395747e+07  \n",
      "PAY_AMT5   2.334266e+08  4.207110e+07  \n",
      "PAY_AMT6   4.207110e+07  3.160383e+08  \n"
     ]
    }
   ],
   "source": [
    "covMat2 = credit2.cov()\n",
    "print(covMat2)"
   ]
  },
  {
   "cell_type": "code",
   "execution_count": 41,
   "metadata": {},
   "outputs": [],
   "source": [
    "credit2 = credit[(credit.LIMIT_BAL <= 500000)]"
   ]
  },
  {
   "cell_type": "code",
   "execution_count": 42,
   "metadata": {},
   "outputs": [
    {
     "data": {
      "text/html": [
       "<div>\n",
       "<style scoped>\n",
       "    .dataframe tbody tr th:only-of-type {\n",
       "        vertical-align: middle;\n",
       "    }\n",
       "\n",
       "    .dataframe tbody tr th {\n",
       "        vertical-align: top;\n",
       "    }\n",
       "\n",
       "    .dataframe thead th {\n",
       "        text-align: right;\n",
       "    }\n",
       "</style>\n",
       "<table border=\"1\" class=\"dataframe\">\n",
       "  <thead>\n",
       "    <tr style=\"text-align: right;\">\n",
       "      <th></th>\n",
       "      <th>ID</th>\n",
       "      <th>LIMIT_BAL</th>\n",
       "      <th>AGE</th>\n",
       "      <th>BILL_AMT1</th>\n",
       "      <th>BILL_AMT2</th>\n",
       "      <th>BILL_AMT3</th>\n",
       "      <th>BILL_AMT4</th>\n",
       "      <th>BILL_AMT5</th>\n",
       "      <th>BILL_AMT6</th>\n",
       "      <th>PAY_AMT1</th>\n",
       "      <th>PAY_AMT2</th>\n",
       "      <th>PAY_AMT3</th>\n",
       "      <th>PAY_AMT4</th>\n",
       "      <th>PAY_AMT5</th>\n",
       "      <th>PAY_AMT6</th>\n",
       "      <th>Q</th>\n",
       "    </tr>\n",
       "  </thead>\n",
       "  <tbody>\n",
       "    <tr>\n",
       "      <th>count</th>\n",
       "      <td>29794.000000</td>\n",
       "      <td>29794.000000</td>\n",
       "      <td>29794.000000</td>\n",
       "      <td>29794.000000</td>\n",
       "      <td>29794.000000</td>\n",
       "      <td>2.979400e+04</td>\n",
       "      <td>29794.000000</td>\n",
       "      <td>29794.000000</td>\n",
       "      <td>29794.000000</td>\n",
       "      <td>29794.000000</td>\n",
       "      <td>2.979400e+04</td>\n",
       "      <td>29794.000000</td>\n",
       "      <td>29794.000000</td>\n",
       "      <td>29794.000000</td>\n",
       "      <td>29794.000000</td>\n",
       "      <td>29794.0</td>\n",
       "    </tr>\n",
       "    <tr>\n",
       "      <th>mean</th>\n",
       "      <td>14997.246929</td>\n",
       "      <td>164504.923139</td>\n",
       "      <td>35.459623</td>\n",
       "      <td>50408.559039</td>\n",
       "      <td>48396.902229</td>\n",
       "      <td>4.623820e+04</td>\n",
       "      <td>42535.405753</td>\n",
       "      <td>39630.336343</td>\n",
       "      <td>38198.951903</td>\n",
       "      <td>5580.573538</td>\n",
       "      <td>5.802603e+03</td>\n",
       "      <td>5098.058871</td>\n",
       "      <td>4745.537759</td>\n",
       "      <td>4676.067933</td>\n",
       "      <td>5106.200175</td>\n",
       "      <td>1.0</td>\n",
       "    </tr>\n",
       "    <tr>\n",
       "      <th>std</th>\n",
       "      <td>8656.039263</td>\n",
       "      <td>124969.722677</td>\n",
       "      <td>9.218752</td>\n",
       "      <td>71379.333966</td>\n",
       "      <td>68964.536390</td>\n",
       "      <td>6.722542e+04</td>\n",
       "      <td>62200.289235</td>\n",
       "      <td>58735.385288</td>\n",
       "      <td>57646.875751</td>\n",
       "      <td>16132.650152</td>\n",
       "      <td>2.169185e+04</td>\n",
       "      <td>16347.307862</td>\n",
       "      <td>15253.403646</td>\n",
       "      <td>14653.800389</td>\n",
       "      <td>17358.555193</td>\n",
       "      <td>0.0</td>\n",
       "    </tr>\n",
       "    <tr>\n",
       "      <th>min</th>\n",
       "      <td>1.000000</td>\n",
       "      <td>10000.000000</td>\n",
       "      <td>21.000000</td>\n",
       "      <td>-165580.000000</td>\n",
       "      <td>-69777.000000</td>\n",
       "      <td>-1.572640e+05</td>\n",
       "      <td>-170000.000000</td>\n",
       "      <td>-81334.000000</td>\n",
       "      <td>-339603.000000</td>\n",
       "      <td>0.000000</td>\n",
       "      <td>0.000000e+00</td>\n",
       "      <td>0.000000</td>\n",
       "      <td>0.000000</td>\n",
       "      <td>0.000000</td>\n",
       "      <td>0.000000</td>\n",
       "      <td>1.0</td>\n",
       "    </tr>\n",
       "    <tr>\n",
       "      <th>25%</th>\n",
       "      <td>7509.250000</td>\n",
       "      <td>50000.000000</td>\n",
       "      <td>28.000000</td>\n",
       "      <td>3518.000000</td>\n",
       "      <td>2956.250000</td>\n",
       "      <td>2.641000e+03</td>\n",
       "      <td>2301.000000</td>\n",
       "      <td>1745.000000</td>\n",
       "      <td>1235.000000</td>\n",
       "      <td>1000.000000</td>\n",
       "      <td>8.177500e+02</td>\n",
       "      <td>390.000000</td>\n",
       "      <td>290.250000</td>\n",
       "      <td>241.000000</td>\n",
       "      <td>100.000000</td>\n",
       "      <td>1.0</td>\n",
       "    </tr>\n",
       "    <tr>\n",
       "      <th>50%</th>\n",
       "      <td>14994.500000</td>\n",
       "      <td>140000.000000</td>\n",
       "      <td>34.000000</td>\n",
       "      <td>22266.000000</td>\n",
       "      <td>21061.500000</td>\n",
       "      <td>2.002350e+04</td>\n",
       "      <td>19000.000000</td>\n",
       "      <td>18064.000000</td>\n",
       "      <td>16965.000000</td>\n",
       "      <td>2100.000000</td>\n",
       "      <td>2.004000e+03</td>\n",
       "      <td>1800.000000</td>\n",
       "      <td>1500.000000</td>\n",
       "      <td>1500.000000</td>\n",
       "      <td>1500.000000</td>\n",
       "      <td>1.0</td>\n",
       "    </tr>\n",
       "    <tr>\n",
       "      <th>75%</th>\n",
       "      <td>22484.750000</td>\n",
       "      <td>240000.000000</td>\n",
       "      <td>41.000000</td>\n",
       "      <td>66503.000000</td>\n",
       "      <td>63326.750000</td>\n",
       "      <td>5.968175e+04</td>\n",
       "      <td>53751.500000</td>\n",
       "      <td>49899.250000</td>\n",
       "      <td>48887.000000</td>\n",
       "      <td>5000.000000</td>\n",
       "      <td>5.000000e+03</td>\n",
       "      <td>4500.000000</td>\n",
       "      <td>4000.000000</td>\n",
       "      <td>4000.000000</td>\n",
       "      <td>4000.000000</td>\n",
       "      <td>1.0</td>\n",
       "    </tr>\n",
       "    <tr>\n",
       "      <th>max</th>\n",
       "      <td>30000.000000</td>\n",
       "      <td>500000.000000</td>\n",
       "      <td>79.000000</td>\n",
       "      <td>626648.000000</td>\n",
       "      <td>743970.000000</td>\n",
       "      <td>1.664089e+06</td>\n",
       "      <td>628699.000000</td>\n",
       "      <td>587067.000000</td>\n",
       "      <td>699944.000000</td>\n",
       "      <td>873552.000000</td>\n",
       "      <td>1.684259e+06</td>\n",
       "      <td>889043.000000</td>\n",
       "      <td>621000.000000</td>\n",
       "      <td>426529.000000</td>\n",
       "      <td>528666.000000</td>\n",
       "      <td>1.0</td>\n",
       "    </tr>\n",
       "  </tbody>\n",
       "</table>\n",
       "</div>"
      ],
      "text/plain": [
       "                 ID      LIMIT_BAL           AGE      BILL_AMT1  \\\n",
       "count  29794.000000   29794.000000  29794.000000   29794.000000   \n",
       "mean   14997.246929  164504.923139     35.459623   50408.559039   \n",
       "std     8656.039263  124969.722677      9.218752   71379.333966   \n",
       "min        1.000000   10000.000000     21.000000 -165580.000000   \n",
       "25%     7509.250000   50000.000000     28.000000    3518.000000   \n",
       "50%    14994.500000  140000.000000     34.000000   22266.000000   \n",
       "75%    22484.750000  240000.000000     41.000000   66503.000000   \n",
       "max    30000.000000  500000.000000     79.000000  626648.000000   \n",
       "\n",
       "           BILL_AMT2     BILL_AMT3      BILL_AMT4      BILL_AMT5  \\\n",
       "count   29794.000000  2.979400e+04   29794.000000   29794.000000   \n",
       "mean    48396.902229  4.623820e+04   42535.405753   39630.336343   \n",
       "std     68964.536390  6.722542e+04   62200.289235   58735.385288   \n",
       "min    -69777.000000 -1.572640e+05 -170000.000000  -81334.000000   \n",
       "25%      2956.250000  2.641000e+03    2301.000000    1745.000000   \n",
       "50%     21061.500000  2.002350e+04   19000.000000   18064.000000   \n",
       "75%     63326.750000  5.968175e+04   53751.500000   49899.250000   \n",
       "max    743970.000000  1.664089e+06  628699.000000  587067.000000   \n",
       "\n",
       "           BILL_AMT6       PAY_AMT1      PAY_AMT2       PAY_AMT3  \\\n",
       "count   29794.000000   29794.000000  2.979400e+04   29794.000000   \n",
       "mean    38198.951903    5580.573538  5.802603e+03    5098.058871   \n",
       "std     57646.875751   16132.650152  2.169185e+04   16347.307862   \n",
       "min   -339603.000000       0.000000  0.000000e+00       0.000000   \n",
       "25%      1235.000000    1000.000000  8.177500e+02     390.000000   \n",
       "50%     16965.000000    2100.000000  2.004000e+03    1800.000000   \n",
       "75%     48887.000000    5000.000000  5.000000e+03    4500.000000   \n",
       "max    699944.000000  873552.000000  1.684259e+06  889043.000000   \n",
       "\n",
       "            PAY_AMT4       PAY_AMT5       PAY_AMT6        Q  \n",
       "count   29794.000000   29794.000000   29794.000000  29794.0  \n",
       "mean     4745.537759    4676.067933    5106.200175      1.0  \n",
       "std     15253.403646   14653.800389   17358.555193      0.0  \n",
       "min         0.000000       0.000000       0.000000      1.0  \n",
       "25%       290.250000     241.000000     100.000000      1.0  \n",
       "50%      1500.000000    1500.000000    1500.000000      1.0  \n",
       "75%      4000.000000    4000.000000    4000.000000      1.0  \n",
       "max    621000.000000  426529.000000  528666.000000      1.0  "
      ]
     },
     "execution_count": 42,
     "metadata": {},
     "output_type": "execute_result"
    }
   ],
   "source": [
    "credit2.describe()"
   ]
  },
  {
   "cell_type": "code",
   "execution_count": 43,
   "metadata": {},
   "outputs": [
    {
     "data": {
      "image/png": "[encoded data removed]",
      "text/plain": [
       "<Figure size 432x288 with 1 Axes>"
      ]
     },
     "metadata": {
      "needs_background": "light"
     },
     "output_type": "display_data"
    }
   ],
   "source": [
    "P= credit2['LIMIT_BAL']\n",
    "plt.boxplot(P,0,'gD')\n",
    "plt.show()"
   ]
  },
  {
   "cell_type": "code",
   "execution_count": 44,
   "metadata": {},
   "outputs": [
    {
     "data": {
      "image/png": "[encoded data removed]",
      "text/plain": [
       "<Figure size 432x288 with 1 Axes>"
      ]
     },
     "metadata": {
      "needs_background": "light"
     },
     "output_type": "display_data"
    }
   ],
   "source": [
    "P2= credit2['BILL_AMT1']\n",
    "plt.boxplot(P2,0,'gD')\n",
    "plt.show()"
   ]
  },
  {
   "cell_type": "code",
   "execution_count": 45,
   "metadata": {},
   "outputs": [],
   "source": [
    "credit3 = credit2[(credit2.BILL_AMT3 <= 800000)]"
   ]
  },
  {
   "cell_type": "code",
   "execution_count": 46,
   "metadata": {},
   "outputs": [
    {
     "data": {
      "text/html": [
       "<div>\n",
       "<style scoped>\n",
       "    .dataframe tbody tr th:only-of-type {\n",
       "        vertical-align: middle;\n",
       "    }\n",
       "\n",
       "    .dataframe tbody tr th {\n",
       "        vertical-align: top;\n",
       "    }\n",
       "\n",
       "    .dataframe thead th {\n",
       "        text-align: right;\n",
       "    }\n",
       "</style>\n",
       "<table border=\"1\" class=\"dataframe\">\n",
       "  <thead>\n",
       "    <tr style=\"text-align: right;\">\n",
       "      <th></th>\n",
       "      <th>ID</th>\n",
       "      <th>LIMIT_BAL</th>\n",
       "      <th>AGE</th>\n",
       "      <th>BILL_AMT1</th>\n",
       "      <th>BILL_AMT2</th>\n",
       "      <th>BILL_AMT3</th>\n",
       "      <th>BILL_AMT4</th>\n",
       "      <th>BILL_AMT5</th>\n",
       "      <th>BILL_AMT6</th>\n",
       "      <th>PAY_AMT1</th>\n",
       "      <th>PAY_AMT2</th>\n",
       "      <th>PAY_AMT3</th>\n",
       "      <th>PAY_AMT4</th>\n",
       "      <th>PAY_AMT5</th>\n",
       "      <th>PAY_AMT6</th>\n",
       "      <th>Q</th>\n",
       "    </tr>\n",
       "  </thead>\n",
       "  <tbody>\n",
       "    <tr>\n",
       "      <th>count</th>\n",
       "      <td>29792.000000</td>\n",
       "      <td>29792.000000</td>\n",
       "      <td>29792.000000</td>\n",
       "      <td>29792.000000</td>\n",
       "      <td>29792.000000</td>\n",
       "      <td>29792.000000</td>\n",
       "      <td>29792.000000</td>\n",
       "      <td>29792.000000</td>\n",
       "      <td>29792.000000</td>\n",
       "      <td>29792.000000</td>\n",
       "      <td>2.979200e+04</td>\n",
       "      <td>29792.000000</td>\n",
       "      <td>29792.000000</td>\n",
       "      <td>29792.000000</td>\n",
       "      <td>29792.000000</td>\n",
       "      <td>29792.0</td>\n",
       "    </tr>\n",
       "    <tr>\n",
       "      <th>mean</th>\n",
       "      <td>14997.212205</td>\n",
       "      <td>164496.498389</td>\n",
       "      <td>35.459654</td>\n",
       "      <td>50410.336063</td>\n",
       "      <td>48400.765575</td>\n",
       "      <td>46156.744025</td>\n",
       "      <td>42534.153128</td>\n",
       "      <td>39629.715830</td>\n",
       "      <td>38184.674208</td>\n",
       "      <td>5580.794408</td>\n",
       "      <td>5.712070e+03</td>\n",
       "      <td>5094.290514</td>\n",
       "      <td>4742.556727</td>\n",
       "      <td>4659.470965</td>\n",
       "      <td>5105.149000</td>\n",
       "      <td>1.0</td>\n",
       "    </tr>\n",
       "    <tr>\n",
       "      <th>std</th>\n",
       "      <td>8655.923942</td>\n",
       "      <td>124957.841113</td>\n",
       "      <td>9.219047</td>\n",
       "      <td>71381.133747</td>\n",
       "      <td>68965.200388</td>\n",
       "      <td>66405.818276</td>\n",
       "      <td>62200.209837</td>\n",
       "      <td>58735.978022</td>\n",
       "      <td>57613.166427</td>\n",
       "      <td>16133.160184</td>\n",
       "      <td>1.847048e+04</td>\n",
       "      <td>16333.839883</td>\n",
       "      <td>15244.392892</td>\n",
       "      <td>14476.036263</td>\n",
       "      <td>17358.594229</td>\n",
       "      <td>0.0</td>\n",
       "    </tr>\n",
       "    <tr>\n",
       "      <th>min</th>\n",
       "      <td>1.000000</td>\n",
       "      <td>10000.000000</td>\n",
       "      <td>21.000000</td>\n",
       "      <td>-165580.000000</td>\n",
       "      <td>-69777.000000</td>\n",
       "      <td>-157264.000000</td>\n",
       "      <td>-170000.000000</td>\n",
       "      <td>-81334.000000</td>\n",
       "      <td>-339603.000000</td>\n",
       "      <td>0.000000</td>\n",
       "      <td>0.000000e+00</td>\n",
       "      <td>0.000000</td>\n",
       "      <td>0.000000</td>\n",
       "      <td>0.000000</td>\n",
       "      <td>0.000000</td>\n",
       "      <td>1.0</td>\n",
       "    </tr>\n",
       "    <tr>\n",
       "      <th>25%</th>\n",
       "      <td>7509.750000</td>\n",
       "      <td>50000.000000</td>\n",
       "      <td>28.000000</td>\n",
       "      <td>3518.000000</td>\n",
       "      <td>2958.500000</td>\n",
       "      <td>2640.000000</td>\n",
       "      <td>2301.000000</td>\n",
       "      <td>1745.000000</td>\n",
       "      <td>1234.750000</td>\n",
       "      <td>1000.000000</td>\n",
       "      <td>8.170000e+02</td>\n",
       "      <td>390.000000</td>\n",
       "      <td>289.750000</td>\n",
       "      <td>241.000000</td>\n",
       "      <td>100.000000</td>\n",
       "      <td>1.0</td>\n",
       "    </tr>\n",
       "    <tr>\n",
       "      <th>50%</th>\n",
       "      <td>14994.500000</td>\n",
       "      <td>140000.000000</td>\n",
       "      <td>34.000000</td>\n",
       "      <td>22266.000000</td>\n",
       "      <td>21063.000000</td>\n",
       "      <td>20020.500000</td>\n",
       "      <td>19000.000000</td>\n",
       "      <td>18064.000000</td>\n",
       "      <td>16961.000000</td>\n",
       "      <td>2100.000000</td>\n",
       "      <td>2.004000e+03</td>\n",
       "      <td>1800.000000</td>\n",
       "      <td>1500.000000</td>\n",
       "      <td>1500.000000</td>\n",
       "      <td>1500.000000</td>\n",
       "      <td>1.0</td>\n",
       "    </tr>\n",
       "    <tr>\n",
       "      <th>75%</th>\n",
       "      <td>22484.250000</td>\n",
       "      <td>240000.000000</td>\n",
       "      <td>41.000000</td>\n",
       "      <td>66505.250000</td>\n",
       "      <td>63331.750000</td>\n",
       "      <td>59674.250000</td>\n",
       "      <td>53748.500000</td>\n",
       "      <td>49895.750000</td>\n",
       "      <td>48882.500000</td>\n",
       "      <td>5000.000000</td>\n",
       "      <td>5.000000e+03</td>\n",
       "      <td>4500.000000</td>\n",
       "      <td>4000.000000</td>\n",
       "      <td>4000.000000</td>\n",
       "      <td>4000.000000</td>\n",
       "      <td>1.0</td>\n",
       "    </tr>\n",
       "    <tr>\n",
       "      <th>max</th>\n",
       "      <td>30000.000000</td>\n",
       "      <td>500000.000000</td>\n",
       "      <td>79.000000</td>\n",
       "      <td>626648.000000</td>\n",
       "      <td>743970.000000</td>\n",
       "      <td>689643.000000</td>\n",
       "      <td>628699.000000</td>\n",
       "      <td>587067.000000</td>\n",
       "      <td>699944.000000</td>\n",
       "      <td>873552.000000</td>\n",
       "      <td>1.215471e+06</td>\n",
       "      <td>889043.000000</td>\n",
       "      <td>621000.000000</td>\n",
       "      <td>426529.000000</td>\n",
       "      <td>528666.000000</td>\n",
       "      <td>1.0</td>\n",
       "    </tr>\n",
       "  </tbody>\n",
       "</table>\n",
       "</div>"
      ],
      "text/plain": [
       "                 ID      LIMIT_BAL           AGE      BILL_AMT1  \\\n",
       "count  29792.000000   29792.000000  29792.000000   29792.000000   \n",
       "mean   14997.212205  164496.498389     35.459654   50410.336063   \n",
       "std     8655.923942  124957.841113      9.219047   71381.133747   \n",
       "min        1.000000   10000.000000     21.000000 -165580.000000   \n",
       "25%     7509.750000   50000.000000     28.000000    3518.000000   \n",
       "50%    14994.500000  140000.000000     34.000000   22266.000000   \n",
       "75%    22484.250000  240000.000000     41.000000   66505.250000   \n",
       "max    30000.000000  500000.000000     79.000000  626648.000000   \n",
       "\n",
       "           BILL_AMT2      BILL_AMT3      BILL_AMT4      BILL_AMT5  \\\n",
       "count   29792.000000   29792.000000   29792.000000   29792.000000   \n",
       "mean    48400.765575   46156.744025   42534.153128   39629.715830   \n",
       "std     68965.200388   66405.818276   62200.209837   58735.978022   \n",
       "min    -69777.000000 -157264.000000 -170000.000000  -81334.000000   \n",
       "25%      2958.500000    2640.000000    2301.000000    1745.000000   \n",
       "50%     21063.000000   20020.500000   19000.000000   18064.000000   \n",
       "75%     63331.750000   59674.250000   53748.500000   49895.750000   \n",
       "max    743970.000000  689643.000000  628699.000000  587067.000000   \n",
       "\n",
       "           BILL_AMT6       PAY_AMT1      PAY_AMT2       PAY_AMT3  \\\n",
       "count   29792.000000   29792.000000  2.979200e+04   29792.000000   \n",
       "mean    38184.674208    5580.794408  5.712070e+03    5094.290514   \n",
       "std     57613.166427   16133.160184  1.847048e+04   16333.839883   \n",
       "min   -339603.000000       0.000000  0.000000e+00       0.000000   \n",
       "25%      1234.750000    1000.000000  8.170000e+02     390.000000   \n",
       "50%     16961.000000    2100.000000  2.004000e+03    1800.000000   \n",
       "75%     48882.500000    5000.000000  5.000000e+03    4500.000000   \n",
       "max    699944.000000  873552.000000  1.215471e+06  889043.000000   \n",
       "\n",
       "            PAY_AMT4       PAY_AMT5       PAY_AMT6        Q  \n",
       "count   29792.000000   29792.000000   29792.000000  29792.0  \n",
       "mean     4742.556727    4659.470965    5105.149000      1.0  \n",
       "std     15244.392892   14476.036263   17358.594229      0.0  \n",
       "min         0.000000       0.000000       0.000000      1.0  \n",
       "25%       289.750000     241.000000     100.000000      1.0  \n",
       "50%      1500.000000    1500.000000    1500.000000      1.0  \n",
       "75%      4000.000000    4000.000000    4000.000000      1.0  \n",
       "max    621000.000000  426529.000000  528666.000000      1.0  "
      ]
     },
     "execution_count": 46,
     "metadata": {},
     "output_type": "execute_result"
    }
   ],
   "source": [
    "credit3.describe()"
   ]
  },
  {
   "cell_type": "code",
   "execution_count": 47,
   "metadata": {},
   "outputs": [],
   "source": [
    "credit4 = credit3[(credit3.PAY_AMT2 <= 100000)]"
   ]
  },
  {
   "cell_type": "code",
   "execution_count": 48,
   "metadata": {},
   "outputs": [
    {
     "data": {
      "text/html": [
       "<div>\n",
       "<style scoped>\n",
       "    .dataframe tbody tr th:only-of-type {\n",
       "        vertical-align: middle;\n",
       "    }\n",
       "\n",
       "    .dataframe tbody tr th {\n",
       "        vertical-align: top;\n",
       "    }\n",
       "\n",
       "    .dataframe thead th {\n",
       "        text-align: right;\n",
       "    }\n",
       "</style>\n",
       "<table border=\"1\" class=\"dataframe\">\n",
       "  <thead>\n",
       "    <tr style=\"text-align: right;\">\n",
       "      <th></th>\n",
       "      <th>ID</th>\n",
       "      <th>LIMIT_BAL</th>\n",
       "      <th>AGE</th>\n",
       "      <th>BILL_AMT1</th>\n",
       "      <th>BILL_AMT2</th>\n",
       "      <th>BILL_AMT3</th>\n",
       "      <th>BILL_AMT4</th>\n",
       "      <th>BILL_AMT5</th>\n",
       "      <th>BILL_AMT6</th>\n",
       "      <th>PAY_AMT1</th>\n",
       "      <th>PAY_AMT2</th>\n",
       "      <th>PAY_AMT3</th>\n",
       "      <th>PAY_AMT4</th>\n",
       "      <th>PAY_AMT5</th>\n",
       "      <th>PAY_AMT6</th>\n",
       "      <th>Q</th>\n",
       "    </tr>\n",
       "  </thead>\n",
       "  <tbody>\n",
       "    <tr>\n",
       "      <th>count</th>\n",
       "      <td>29603.000000</td>\n",
       "      <td>29603.000000</td>\n",
       "      <td>29603.000000</td>\n",
       "      <td>29603.000000</td>\n",
       "      <td>29603.000000</td>\n",
       "      <td>29603.000000</td>\n",
       "      <td>29603.000000</td>\n",
       "      <td>29603.000000</td>\n",
       "      <td>29603.000000</td>\n",
       "      <td>29603.000000</td>\n",
       "      <td>29603.000000</td>\n",
       "      <td>29603.000000</td>\n",
       "      <td>29603.000000</td>\n",
       "      <td>29603.000000</td>\n",
       "      <td>29603.000000</td>\n",
       "      <td>29603.0</td>\n",
       "    </tr>\n",
       "    <tr>\n",
       "      <th>mean</th>\n",
       "      <td>14998.346012</td>\n",
       "      <td>163511.795426</td>\n",
       "      <td>35.451069</td>\n",
       "      <td>50265.850049</td>\n",
       "      <td>48344.628957</td>\n",
       "      <td>45258.987535</td>\n",
       "      <td>41878.012870</td>\n",
       "      <td>39116.653515</td>\n",
       "      <td>37793.742661</td>\n",
       "      <td>5442.294497</td>\n",
       "      <td>4609.573557</td>\n",
       "      <td>4944.169003</td>\n",
       "      <td>4646.513124</td>\n",
       "      <td>4595.857008</td>\n",
       "      <td>4953.380975</td>\n",
       "      <td>1.0</td>\n",
       "    </tr>\n",
       "    <tr>\n",
       "      <th>std</th>\n",
       "      <td>8657.001828</td>\n",
       "      <td>124354.600775</td>\n",
       "      <td>9.224555</td>\n",
       "      <td>71183.360377</td>\n",
       "      <td>68866.513279</td>\n",
       "      <td>65200.851019</td>\n",
       "      <td>61268.739932</td>\n",
       "      <td>58085.220330</td>\n",
       "      <td>57145.704898</td>\n",
       "      <td>14951.946756</td>\n",
       "      <td>8895.541726</td>\n",
       "      <td>15071.993845</td>\n",
       "      <td>14678.810937</td>\n",
       "      <td>14355.674333</td>\n",
       "      <td>16384.714193</td>\n",
       "      <td>0.0</td>\n",
       "    </tr>\n",
       "    <tr>\n",
       "      <th>min</th>\n",
       "      <td>1.000000</td>\n",
       "      <td>10000.000000</td>\n",
       "      <td>21.000000</td>\n",
       "      <td>-165580.000000</td>\n",
       "      <td>-69777.000000</td>\n",
       "      <td>-157264.000000</td>\n",
       "      <td>-170000.000000</td>\n",
       "      <td>-81334.000000</td>\n",
       "      <td>-339603.000000</td>\n",
       "      <td>0.000000</td>\n",
       "      <td>0.000000</td>\n",
       "      <td>0.000000</td>\n",
       "      <td>0.000000</td>\n",
       "      <td>0.000000</td>\n",
       "      <td>0.000000</td>\n",
       "      <td>1.0</td>\n",
       "    </tr>\n",
       "    <tr>\n",
       "      <th>25%</th>\n",
       "      <td>7513.500000</td>\n",
       "      <td>50000.000000</td>\n",
       "      <td>28.000000</td>\n",
       "      <td>3506.000000</td>\n",
       "      <td>2972.500000</td>\n",
       "      <td>2567.500000</td>\n",
       "      <td>2256.000000</td>\n",
       "      <td>1707.500000</td>\n",
       "      <td>1206.000000</td>\n",
       "      <td>990.500000</td>\n",
       "      <td>792.000000</td>\n",
       "      <td>390.000000</td>\n",
       "      <td>281.000000</td>\n",
       "      <td>230.000000</td>\n",
       "      <td>96.500000</td>\n",
       "      <td>1.0</td>\n",
       "    </tr>\n",
       "    <tr>\n",
       "      <th>50%</th>\n",
       "      <td>14999.000000</td>\n",
       "      <td>140000.000000</td>\n",
       "      <td>34.000000</td>\n",
       "      <td>22219.000000</td>\n",
       "      <td>21072.000000</td>\n",
       "      <td>19829.000000</td>\n",
       "      <td>18887.000000</td>\n",
       "      <td>17950.000000</td>\n",
       "      <td>16821.000000</td>\n",
       "      <td>2100.000000</td>\n",
       "      <td>2000.000000</td>\n",
       "      <td>1780.000000</td>\n",
       "      <td>1500.000000</td>\n",
       "      <td>1500.000000</td>\n",
       "      <td>1500.000000</td>\n",
       "      <td>1.0</td>\n",
       "    </tr>\n",
       "    <tr>\n",
       "      <th>75%</th>\n",
       "      <td>22488.500000</td>\n",
       "      <td>230000.000000</td>\n",
       "      <td>41.000000</td>\n",
       "      <td>66257.000000</td>\n",
       "      <td>63175.000000</td>\n",
       "      <td>58600.500000</td>\n",
       "      <td>52635.500000</td>\n",
       "      <td>49447.000000</td>\n",
       "      <td>48557.000000</td>\n",
       "      <td>5000.000000</td>\n",
       "      <td>5000.000000</td>\n",
       "      <td>4400.000000</td>\n",
       "      <td>4000.000000</td>\n",
       "      <td>4000.000000</td>\n",
       "      <td>4000.000000</td>\n",
       "      <td>1.0</td>\n",
       "    </tr>\n",
       "    <tr>\n",
       "      <th>max</th>\n",
       "      <td>30000.000000</td>\n",
       "      <td>500000.000000</td>\n",
       "      <td>79.000000</td>\n",
       "      <td>626648.000000</td>\n",
       "      <td>743970.000000</td>\n",
       "      <td>689643.000000</td>\n",
       "      <td>628699.000000</td>\n",
       "      <td>587067.000000</td>\n",
       "      <td>699944.000000</td>\n",
       "      <td>505000.000000</td>\n",
       "      <td>100000.000000</td>\n",
       "      <td>508229.000000</td>\n",
       "      <td>497000.000000</td>\n",
       "      <td>426529.000000</td>\n",
       "      <td>443001.000000</td>\n",
       "      <td>1.0</td>\n",
       "    </tr>\n",
       "  </tbody>\n",
       "</table>\n",
       "</div>"
      ],
      "text/plain": [
       "                 ID      LIMIT_BAL           AGE      BILL_AMT1  \\\n",
       "count  29603.000000   29603.000000  29603.000000   29603.000000   \n",
       "mean   14998.346012  163511.795426     35.451069   50265.850049   \n",
       "std     8657.001828  124354.600775      9.224555   71183.360377   \n",
       "min        1.000000   10000.000000     21.000000 -165580.000000   \n",
       "25%     7513.500000   50000.000000     28.000000    3506.000000   \n",
       "50%    14999.000000  140000.000000     34.000000   22219.000000   \n",
       "75%    22488.500000  230000.000000     41.000000   66257.000000   \n",
       "max    30000.000000  500000.000000     79.000000  626648.000000   \n",
       "\n",
       "           BILL_AMT2      BILL_AMT3      BILL_AMT4      BILL_AMT5  \\\n",
       "count   29603.000000   29603.000000   29603.000000   29603.000000   \n",
       "mean    48344.628957   45258.987535   41878.012870   39116.653515   \n",
       "std     68866.513279   65200.851019   61268.739932   58085.220330   \n",
       "min    -69777.000000 -157264.000000 -170000.000000  -81334.000000   \n",
       "25%      2972.500000    2567.500000    2256.000000    1707.500000   \n",
       "50%     21072.000000   19829.000000   18887.000000   17950.000000   \n",
       "75%     63175.000000   58600.500000   52635.500000   49447.000000   \n",
       "max    743970.000000  689643.000000  628699.000000  587067.000000   \n",
       "\n",
       "           BILL_AMT6       PAY_AMT1       PAY_AMT2       PAY_AMT3  \\\n",
       "count   29603.000000   29603.000000   29603.000000   29603.000000   \n",
       "mean    37793.742661    5442.294497    4609.573557    4944.169003   \n",
       "std     57145.704898   14951.946756    8895.541726   15071.993845   \n",
       "min   -339603.000000       0.000000       0.000000       0.000000   \n",
       "25%      1206.000000     990.500000     792.000000     390.000000   \n",
       "50%     16821.000000    2100.000000    2000.000000    1780.000000   \n",
       "75%     48557.000000    5000.000000    5000.000000    4400.000000   \n",
       "max    699944.000000  505000.000000  100000.000000  508229.000000   \n",
       "\n",
       "            PAY_AMT4       PAY_AMT5       PAY_AMT6        Q  \n",
       "count   29603.000000   29603.000000   29603.000000  29603.0  \n",
       "mean     4646.513124    4595.857008    4953.380975      1.0  \n",
       "std     14678.810937   14355.674333   16384.714193      0.0  \n",
       "min         0.000000       0.000000       0.000000      1.0  \n",
       "25%       281.000000     230.000000      96.500000      1.0  \n",
       "50%      1500.000000    1500.000000    1500.000000      1.0  \n",
       "75%      4000.000000    4000.000000    4000.000000      1.0  \n",
       "max    497000.000000  426529.000000  443001.000000      1.0  "
      ]
     },
     "execution_count": 48,
     "metadata": {},
     "output_type": "execute_result"
    }
   ],
   "source": [
    "credit4.describe()"
   ]
  },
  {
   "cell_type": "code",
   "execution_count": 49,
   "metadata": {},
   "outputs": [
    {
     "data": {
      "image/png": "[encoded data removed]",
      "text/plain": [
       "<Figure size 432x288 with 1 Axes>"
      ]
     },
     "metadata": {
      "needs_background": "light"
     },
     "output_type": "display_data"
    }
   ],
   "source": [
    "P3= credit4['PAY_AMT3']\n",
    "plt.boxplot(P3,0,'gD')\n",
    "plt.show()"
   ]
  },
  {
   "cell_type": "code",
   "execution_count": 50,
   "metadata": {},
   "outputs": [],
   "source": [
    "credit5 = credit4[(credit4.PAY_AMT3 <= 100000)]"
   ]
  },
  {
   "cell_type": "code",
   "execution_count": 51,
   "metadata": {},
   "outputs": [
    {
     "data": {
      "text/html": [
       "<div>\n",
       "<style scoped>\n",
       "    .dataframe tbody tr th:only-of-type {\n",
       "        vertical-align: middle;\n",
       "    }\n",
       "\n",
       "    .dataframe tbody tr th {\n",
       "        vertical-align: top;\n",
       "    }\n",
       "\n",
       "    .dataframe thead th {\n",
       "        text-align: right;\n",
       "    }\n",
       "</style>\n",
       "<table border=\"1\" class=\"dataframe\">\n",
       "  <thead>\n",
       "    <tr style=\"text-align: right;\">\n",
       "      <th></th>\n",
       "      <th>ID</th>\n",
       "      <th>LIMIT_BAL</th>\n",
       "      <th>AGE</th>\n",
       "      <th>BILL_AMT1</th>\n",
       "      <th>BILL_AMT2</th>\n",
       "      <th>BILL_AMT3</th>\n",
       "      <th>BILL_AMT4</th>\n",
       "      <th>BILL_AMT5</th>\n",
       "      <th>BILL_AMT6</th>\n",
       "      <th>PAY_AMT1</th>\n",
       "      <th>PAY_AMT2</th>\n",
       "      <th>PAY_AMT3</th>\n",
       "      <th>PAY_AMT4</th>\n",
       "      <th>PAY_AMT5</th>\n",
       "      <th>PAY_AMT6</th>\n",
       "      <th>Q</th>\n",
       "    </tr>\n",
       "  </thead>\n",
       "  <tbody>\n",
       "    <tr>\n",
       "      <th>count</th>\n",
       "      <td>29451.000000</td>\n",
       "      <td>29451.000000</td>\n",
       "      <td>29451.000000</td>\n",
       "      <td>29451.000000</td>\n",
       "      <td>29451.000000</td>\n",
       "      <td>29451.000000</td>\n",
       "      <td>29451.000000</td>\n",
       "      <td>29451.000000</td>\n",
       "      <td>29451.000000</td>\n",
       "      <td>29451.000000</td>\n",
       "      <td>29451.000000</td>\n",
       "      <td>29451.000000</td>\n",
       "      <td>29451.000000</td>\n",
       "      <td>29451.000000</td>\n",
       "      <td>29451.000000</td>\n",
       "      <td>29451.0</td>\n",
       "    </tr>\n",
       "    <tr>\n",
       "      <th>mean</th>\n",
       "      <td>14989.541747</td>\n",
       "      <td>162727.230994</td>\n",
       "      <td>35.447557</td>\n",
       "      <td>50081.208210</td>\n",
       "      <td>48217.631524</td>\n",
       "      <td>45264.092187</td>\n",
       "      <td>41217.039965</td>\n",
       "      <td>38657.934467</td>\n",
       "      <td>37396.674069</td>\n",
       "      <td>5366.606125</td>\n",
       "      <td>4561.123323</td>\n",
       "      <td>4129.427999</td>\n",
       "      <td>4576.317171</td>\n",
       "      <td>4525.083732</td>\n",
       "      <td>4866.882177</td>\n",
       "      <td>1.0</td>\n",
       "    </tr>\n",
       "    <tr>\n",
       "      <th>std</th>\n",
       "      <td>8656.313096</td>\n",
       "      <td>123892.765158</td>\n",
       "      <td>9.230347</td>\n",
       "      <td>70907.932098</td>\n",
       "      <td>68693.060357</td>\n",
       "      <td>65159.185195</td>\n",
       "      <td>60436.606264</td>\n",
       "      <td>57519.904571</td>\n",
       "      <td>56630.798398</td>\n",
       "      <td>14727.273313</td>\n",
       "      <td>8760.533295</td>\n",
       "      <td>8500.060508</td>\n",
       "      <td>14497.733021</td>\n",
       "      <td>14079.210246</td>\n",
       "      <td>16077.009626</td>\n",
       "      <td>0.0</td>\n",
       "    </tr>\n",
       "    <tr>\n",
       "      <th>min</th>\n",
       "      <td>1.000000</td>\n",
       "      <td>10000.000000</td>\n",
       "      <td>21.000000</td>\n",
       "      <td>-165580.000000</td>\n",
       "      <td>-69777.000000</td>\n",
       "      <td>-61506.000000</td>\n",
       "      <td>-170000.000000</td>\n",
       "      <td>-81334.000000</td>\n",
       "      <td>-339603.000000</td>\n",
       "      <td>0.000000</td>\n",
       "      <td>0.000000</td>\n",
       "      <td>0.000000</td>\n",
       "      <td>0.000000</td>\n",
       "      <td>0.000000</td>\n",
       "      <td>0.000000</td>\n",
       "      <td>1.0</td>\n",
       "    </tr>\n",
       "    <tr>\n",
       "      <th>25%</th>\n",
       "      <td>7504.500000</td>\n",
       "      <td>50000.000000</td>\n",
       "      <td>28.000000</td>\n",
       "      <td>3489.000000</td>\n",
       "      <td>2956.500000</td>\n",
       "      <td>2573.500000</td>\n",
       "      <td>2201.000000</td>\n",
       "      <td>1682.500000</td>\n",
       "      <td>1195.000000</td>\n",
       "      <td>980.000000</td>\n",
       "      <td>789.000000</td>\n",
       "      <td>390.000000</td>\n",
       "      <td>273.000000</td>\n",
       "      <td>218.000000</td>\n",
       "      <td>82.000000</td>\n",
       "      <td>1.0</td>\n",
       "    </tr>\n",
       "    <tr>\n",
       "      <th>50%</th>\n",
       "      <td>14985.000000</td>\n",
       "      <td>140000.000000</td>\n",
       "      <td>34.000000</td>\n",
       "      <td>22120.000000</td>\n",
       "      <td>21050.000000</td>\n",
       "      <td>19844.000000</td>\n",
       "      <td>18734.000000</td>\n",
       "      <td>17855.000000</td>\n",
       "      <td>16708.000000</td>\n",
       "      <td>2096.000000</td>\n",
       "      <td>2000.000000</td>\n",
       "      <td>1751.000000</td>\n",
       "      <td>1500.000000</td>\n",
       "      <td>1500.000000</td>\n",
       "      <td>1499.000000</td>\n",
       "      <td>1.0</td>\n",
       "    </tr>\n",
       "    <tr>\n",
       "      <th>75%</th>\n",
       "      <td>22475.500000</td>\n",
       "      <td>230000.000000</td>\n",
       "      <td>41.000000</td>\n",
       "      <td>66054.000000</td>\n",
       "      <td>62991.000000</td>\n",
       "      <td>58602.500000</td>\n",
       "      <td>51527.500000</td>\n",
       "      <td>49081.500000</td>\n",
       "      <td>48280.000000</td>\n",
       "      <td>5000.000000</td>\n",
       "      <td>5000.000000</td>\n",
       "      <td>4282.000000</td>\n",
       "      <td>4000.000000</td>\n",
       "      <td>4000.000000</td>\n",
       "      <td>4000.000000</td>\n",
       "      <td>1.0</td>\n",
       "    </tr>\n",
       "    <tr>\n",
       "      <th>max</th>\n",
       "      <td>30000.000000</td>\n",
       "      <td>500000.000000</td>\n",
       "      <td>79.000000</td>\n",
       "      <td>626648.000000</td>\n",
       "      <td>743970.000000</td>\n",
       "      <td>689643.000000</td>\n",
       "      <td>628699.000000</td>\n",
       "      <td>587067.000000</td>\n",
       "      <td>699944.000000</td>\n",
       "      <td>505000.000000</td>\n",
       "      <td>100000.000000</td>\n",
       "      <td>100000.000000</td>\n",
       "      <td>497000.000000</td>\n",
       "      <td>426529.000000</td>\n",
       "      <td>443001.000000</td>\n",
       "      <td>1.0</td>\n",
       "    </tr>\n",
       "  </tbody>\n",
       "</table>\n",
       "</div>"
      ],
      "text/plain": [
       "                 ID      LIMIT_BAL           AGE      BILL_AMT1  \\\n",
       "count  29451.000000   29451.000000  29451.000000   29451.000000   \n",
       "mean   14989.541747  162727.230994     35.447557   50081.208210   \n",
       "std     8656.313096  123892.765158      9.230347   70907.932098   \n",
       "min        1.000000   10000.000000     21.000000 -165580.000000   \n",
       "25%     7504.500000   50000.000000     28.000000    3489.000000   \n",
       "50%    14985.000000  140000.000000     34.000000   22120.000000   \n",
       "75%    22475.500000  230000.000000     41.000000   66054.000000   \n",
       "max    30000.000000  500000.000000     79.000000  626648.000000   \n",
       "\n",
       "           BILL_AMT2      BILL_AMT3      BILL_AMT4      BILL_AMT5  \\\n",
       "count   29451.000000   29451.000000   29451.000000   29451.000000   \n",
       "mean    48217.631524   45264.092187   41217.039965   38657.934467   \n",
       "std     68693.060357   65159.185195   60436.606264   57519.904571   \n",
       "min    -69777.000000  -61506.000000 -170000.000000  -81334.000000   \n",
       "25%      2956.500000    2573.500000    2201.000000    1682.500000   \n",
       "50%     21050.000000   19844.000000   18734.000000   17855.000000   \n",
       "75%     62991.000000   58602.500000   51527.500000   49081.500000   \n",
       "max    743970.000000  689643.000000  628699.000000  587067.000000   \n",
       "\n",
       "           BILL_AMT6       PAY_AMT1       PAY_AMT2       PAY_AMT3  \\\n",
       "count   29451.000000   29451.000000   29451.000000   29451.000000   \n",
       "mean    37396.674069    5366.606125    4561.123323    4129.427999   \n",
       "std     56630.798398   14727.273313    8760.533295    8500.060508   \n",
       "min   -339603.000000       0.000000       0.000000       0.000000   \n",
       "25%      1195.000000     980.000000     789.000000     390.000000   \n",
       "50%     16708.000000    2096.000000    2000.000000    1751.000000   \n",
       "75%     48280.000000    5000.000000    5000.000000    4282.000000   \n",
       "max    699944.000000  505000.000000  100000.000000  100000.000000   \n",
       "\n",
       "            PAY_AMT4       PAY_AMT5       PAY_AMT6        Q  \n",
       "count   29451.000000   29451.000000   29451.000000  29451.0  \n",
       "mean     4576.317171    4525.083732    4866.882177      1.0  \n",
       "std     14497.733021   14079.210246   16077.009626      0.0  \n",
       "min         0.000000       0.000000       0.000000      1.0  \n",
       "25%       273.000000     218.000000      82.000000      1.0  \n",
       "50%      1500.000000    1500.000000    1499.000000      1.0  \n",
       "75%      4000.000000    4000.000000    4000.000000      1.0  \n",
       "max    497000.000000  426529.000000  443001.000000      1.0  "
      ]
     },
     "execution_count": 51,
     "metadata": {},
     "output_type": "execute_result"
    }
   ],
   "source": [
    "credit5.describe()"
   ]
  },
  {
   "cell_type": "code",
   "execution_count": 52,
   "metadata": {},
   "outputs": [
    {
     "data": {
      "image/png": "[encoded data removed]",
      "text/plain": [
       "<Figure size 432x288 with 1 Axes>"
      ]
     },
     "metadata": {
      "needs_background": "light"
     },
     "output_type": "display_data"
    }
   ],
   "source": [
    "P4= credit5['PAY_AMT3']\n",
    "plt.boxplot(P4,0,'gD')\n",
    "plt.show()"
   ]
  },
  {
   "cell_type": "code",
   "execution_count": 53,
   "metadata": {},
   "outputs": [],
   "source": [
    "credit6 = credit5[(credit5.PAY_AMT5 <= 100000)]"
   ]
  },
  {
   "cell_type": "code",
   "execution_count": 54,
   "metadata": {},
   "outputs": [
    {
     "data": {
      "text/html": [
       "<div>\n",
       "<style scoped>\n",
       "    .dataframe tbody tr th:only-of-type {\n",
       "        vertical-align: middle;\n",
       "    }\n",
       "\n",
       "    .dataframe tbody tr th {\n",
       "        vertical-align: top;\n",
       "    }\n",
       "\n",
       "    .dataframe thead th {\n",
       "        text-align: right;\n",
       "    }\n",
       "</style>\n",
       "<table border=\"1\" class=\"dataframe\">\n",
       "  <thead>\n",
       "    <tr style=\"text-align: right;\">\n",
       "      <th></th>\n",
       "      <th>ID</th>\n",
       "      <th>LIMIT_BAL</th>\n",
       "      <th>AGE</th>\n",
       "      <th>BILL_AMT1</th>\n",
       "      <th>BILL_AMT2</th>\n",
       "      <th>BILL_AMT3</th>\n",
       "      <th>BILL_AMT4</th>\n",
       "      <th>BILL_AMT5</th>\n",
       "      <th>BILL_AMT6</th>\n",
       "      <th>PAY_AMT1</th>\n",
       "      <th>PAY_AMT2</th>\n",
       "      <th>PAY_AMT3</th>\n",
       "      <th>PAY_AMT4</th>\n",
       "      <th>PAY_AMT5</th>\n",
       "      <th>PAY_AMT6</th>\n",
       "      <th>Q</th>\n",
       "    </tr>\n",
       "  </thead>\n",
       "  <tbody>\n",
       "    <tr>\n",
       "      <th>count</th>\n",
       "      <td>29320.000000</td>\n",
       "      <td>29320.000000</td>\n",
       "      <td>29320.000000</td>\n",
       "      <td>29320.000000</td>\n",
       "      <td>29320.000000</td>\n",
       "      <td>29320.000000</td>\n",
       "      <td>29320.000000</td>\n",
       "      <td>29320.000000</td>\n",
       "      <td>29320.000000</td>\n",
       "      <td>29320.000000</td>\n",
       "      <td>29320.000000</td>\n",
       "      <td>29320.000000</td>\n",
       "      <td>29320.000000</td>\n",
       "      <td>29320.000000</td>\n",
       "      <td>29320.000000</td>\n",
       "      <td>29320.0</td>\n",
       "    </tr>\n",
       "    <tr>\n",
       "      <th>mean</th>\n",
       "      <td>14990.318281</td>\n",
       "      <td>162102.990450</td>\n",
       "      <td>35.443145</td>\n",
       "      <td>49787.307231</td>\n",
       "      <td>47969.119543</td>\n",
       "      <td>45063.038267</td>\n",
       "      <td>41073.550853</td>\n",
       "      <td>38573.504843</td>\n",
       "      <td>36815.595873</td>\n",
       "      <td>5328.123636</td>\n",
       "      <td>4543.308390</td>\n",
       "      <td>4104.464836</td>\n",
       "      <td>4537.702524</td>\n",
       "      <td>3823.210368</td>\n",
       "      <td>4811.943656</td>\n",
       "      <td>1.0</td>\n",
       "    </tr>\n",
       "    <tr>\n",
       "      <th>std</th>\n",
       "      <td>8655.934602</td>\n",
       "      <td>123519.413709</td>\n",
       "      <td>9.233773</td>\n",
       "      <td>70450.998356</td>\n",
       "      <td>68292.952644</td>\n",
       "      <td>64858.120952</td>\n",
       "      <td>60231.388233</td>\n",
       "      <td>57352.700701</td>\n",
       "      <td>55814.228322</td>\n",
       "      <td>14491.189020</td>\n",
       "      <td>8724.722383</td>\n",
       "      <td>8435.396157</td>\n",
       "      <td>14405.560720</td>\n",
       "      <td>8359.433664</td>\n",
       "      <td>15833.647720</td>\n",
       "      <td>0.0</td>\n",
       "    </tr>\n",
       "    <tr>\n",
       "      <th>min</th>\n",
       "      <td>1.000000</td>\n",
       "      <td>10000.000000</td>\n",
       "      <td>21.000000</td>\n",
       "      <td>-165580.000000</td>\n",
       "      <td>-69777.000000</td>\n",
       "      <td>-61506.000000</td>\n",
       "      <td>-170000.000000</td>\n",
       "      <td>-53007.000000</td>\n",
       "      <td>-339603.000000</td>\n",
       "      <td>0.000000</td>\n",
       "      <td>0.000000</td>\n",
       "      <td>0.000000</td>\n",
       "      <td>0.000000</td>\n",
       "      <td>0.000000</td>\n",
       "      <td>0.000000</td>\n",
       "      <td>1.0</td>\n",
       "    </tr>\n",
       "    <tr>\n",
       "      <th>25%</th>\n",
       "      <td>7503.750000</td>\n",
       "      <td>50000.000000</td>\n",
       "      <td>28.000000</td>\n",
       "      <td>3473.750000</td>\n",
       "      <td>2946.000000</td>\n",
       "      <td>2552.000000</td>\n",
       "      <td>2194.750000</td>\n",
       "      <td>1681.750000</td>\n",
       "      <td>1170.000000</td>\n",
       "      <td>969.500000</td>\n",
       "      <td>782.750000</td>\n",
       "      <td>390.000000</td>\n",
       "      <td>267.750000</td>\n",
       "      <td>203.750000</td>\n",
       "      <td>66.000000</td>\n",
       "      <td>1.0</td>\n",
       "    </tr>\n",
       "    <tr>\n",
       "      <th>50%</th>\n",
       "      <td>14993.500000</td>\n",
       "      <td>140000.000000</td>\n",
       "      <td>34.000000</td>\n",
       "      <td>21983.500000</td>\n",
       "      <td>20986.500000</td>\n",
       "      <td>19808.000000</td>\n",
       "      <td>18708.000000</td>\n",
       "      <td>17863.500000</td>\n",
       "      <td>16561.000000</td>\n",
       "      <td>2087.000000</td>\n",
       "      <td>2000.000000</td>\n",
       "      <td>1746.500000</td>\n",
       "      <td>1500.000000</td>\n",
       "      <td>1500.000000</td>\n",
       "      <td>1473.000000</td>\n",
       "      <td>1.0</td>\n",
       "    </tr>\n",
       "    <tr>\n",
       "      <th>75%</th>\n",
       "      <td>22472.250000</td>\n",
       "      <td>230000.000000</td>\n",
       "      <td>41.000000</td>\n",
       "      <td>65734.500000</td>\n",
       "      <td>62681.250000</td>\n",
       "      <td>58326.000000</td>\n",
       "      <td>51396.250000</td>\n",
       "      <td>49034.750000</td>\n",
       "      <td>47853.000000</td>\n",
       "      <td>5000.000000</td>\n",
       "      <td>5000.000000</td>\n",
       "      <td>4246.000000</td>\n",
       "      <td>4000.000000</td>\n",
       "      <td>4000.000000</td>\n",
       "      <td>4000.000000</td>\n",
       "      <td>1.0</td>\n",
       "    </tr>\n",
       "    <tr>\n",
       "      <th>max</th>\n",
       "      <td>30000.000000</td>\n",
       "      <td>500000.000000</td>\n",
       "      <td>79.000000</td>\n",
       "      <td>626648.000000</td>\n",
       "      <td>743970.000000</td>\n",
       "      <td>689643.000000</td>\n",
       "      <td>628699.000000</td>\n",
       "      <td>587067.000000</td>\n",
       "      <td>699944.000000</td>\n",
       "      <td>505000.000000</td>\n",
       "      <td>100000.000000</td>\n",
       "      <td>100000.000000</td>\n",
       "      <td>497000.000000</td>\n",
       "      <td>100000.000000</td>\n",
       "      <td>443001.000000</td>\n",
       "      <td>1.0</td>\n",
       "    </tr>\n",
       "  </tbody>\n",
       "</table>\n",
       "</div>"
      ],
      "text/plain": [
       "                 ID      LIMIT_BAL           AGE      BILL_AMT1  \\\n",
       "count  29320.000000   29320.000000  29320.000000   29320.000000   \n",
       "mean   14990.318281  162102.990450     35.443145   49787.307231   \n",
       "std     8655.934602  123519.413709      9.233773   70450.998356   \n",
       "min        1.000000   10000.000000     21.000000 -165580.000000   \n",
       "25%     7503.750000   50000.000000     28.000000    3473.750000   \n",
       "50%    14993.500000  140000.000000     34.000000   21983.500000   \n",
       "75%    22472.250000  230000.000000     41.000000   65734.500000   \n",
       "max    30000.000000  500000.000000     79.000000  626648.000000   \n",
       "\n",
       "           BILL_AMT2      BILL_AMT3      BILL_AMT4      BILL_AMT5  \\\n",
       "count   29320.000000   29320.000000   29320.000000   29320.000000   \n",
       "mean    47969.119543   45063.038267   41073.550853   38573.504843   \n",
       "std     68292.952644   64858.120952   60231.388233   57352.700701   \n",
       "min    -69777.000000  -61506.000000 -170000.000000  -53007.000000   \n",
       "25%      2946.000000    2552.000000    2194.750000    1681.750000   \n",
       "50%     20986.500000   19808.000000   18708.000000   17863.500000   \n",
       "75%     62681.250000   58326.000000   51396.250000   49034.750000   \n",
       "max    743970.000000  689643.000000  628699.000000  587067.000000   \n",
       "\n",
       "           BILL_AMT6       PAY_AMT1       PAY_AMT2       PAY_AMT3  \\\n",
       "count   29320.000000   29320.000000   29320.000000   29320.000000   \n",
       "mean    36815.595873    5328.123636    4543.308390    4104.464836   \n",
       "std     55814.228322   14491.189020    8724.722383    8435.396157   \n",
       "min   -339603.000000       0.000000       0.000000       0.000000   \n",
       "25%      1170.000000     969.500000     782.750000     390.000000   \n",
       "50%     16561.000000    2087.000000    2000.000000    1746.500000   \n",
       "75%     47853.000000    5000.000000    5000.000000    4246.000000   \n",
       "max    699944.000000  505000.000000  100000.000000  100000.000000   \n",
       "\n",
       "            PAY_AMT4       PAY_AMT5       PAY_AMT6        Q  \n",
       "count   29320.000000   29320.000000   29320.000000  29320.0  \n",
       "mean     4537.702524    3823.210368    4811.943656      1.0  \n",
       "std     14405.560720    8359.433664   15833.647720      0.0  \n",
       "min         0.000000       0.000000       0.000000      1.0  \n",
       "25%       267.750000     203.750000      66.000000      1.0  \n",
       "50%      1500.000000    1500.000000    1473.000000      1.0  \n",
       "75%      4000.000000    4000.000000    4000.000000      1.0  \n",
       "max    497000.000000  100000.000000  443001.000000      1.0  "
      ]
     },
     "execution_count": 54,
     "metadata": {},
     "output_type": "execute_result"
    }
   ],
   "source": [
    "credit6.describe()"
   ]
  },
  {
   "cell_type": "code",
   "execution_count": 55,
   "metadata": {},
   "outputs": [],
   "source": [
    "credit7 = credit6[(credit6.PAY_AMT1 <= 100000)]"
   ]
  },
  {
   "cell_type": "code",
   "execution_count": 56,
   "metadata": {},
   "outputs": [],
   "source": [
    "credit8 = credit7[(credit7.PAY_AMT4 <= 100000)]"
   ]
  },
  {
   "cell_type": "code",
   "execution_count": 57,
   "metadata": {},
   "outputs": [],
   "source": [
    "credit9 = credit8[(credit8.PAY_AMT6 <= 100000)]"
   ]
  },
  {
   "cell_type": "code",
   "execution_count": 58,
   "metadata": {},
   "outputs": [
    {
     "data": {
      "text/html": [
       "<div>\n",
       "<style scoped>\n",
       "    .dataframe tbody tr th:only-of-type {\n",
       "        vertical-align: middle;\n",
       "    }\n",
       "\n",
       "    .dataframe tbody tr th {\n",
       "        vertical-align: top;\n",
       "    }\n",
       "\n",
       "    .dataframe thead th {\n",
       "        text-align: right;\n",
       "    }\n",
       "</style>\n",
       "<table border=\"1\" class=\"dataframe\">\n",
       "  <thead>\n",
       "    <tr style=\"text-align: right;\">\n",
       "      <th></th>\n",
       "      <th>ID</th>\n",
       "      <th>LIMIT_BAL</th>\n",
       "      <th>AGE</th>\n",
       "      <th>BILL_AMT1</th>\n",
       "      <th>BILL_AMT2</th>\n",
       "      <th>BILL_AMT3</th>\n",
       "      <th>BILL_AMT4</th>\n",
       "      <th>BILL_AMT5</th>\n",
       "      <th>BILL_AMT6</th>\n",
       "      <th>PAY_AMT1</th>\n",
       "      <th>PAY_AMT2</th>\n",
       "      <th>PAY_AMT3</th>\n",
       "      <th>PAY_AMT4</th>\n",
       "      <th>PAY_AMT5</th>\n",
       "      <th>PAY_AMT6</th>\n",
       "      <th>Q</th>\n",
       "    </tr>\n",
       "  </thead>\n",
       "  <tbody>\n",
       "    <tr>\n",
       "      <th>count</th>\n",
       "      <td>28895.000000</td>\n",
       "      <td>28895.000000</td>\n",
       "      <td>28895.000000</td>\n",
       "      <td>28895.000000</td>\n",
       "      <td>28895.000000</td>\n",
       "      <td>28895.000000</td>\n",
       "      <td>28895.000000</td>\n",
       "      <td>28895.000000</td>\n",
       "      <td>28895.000000</td>\n",
       "      <td>28895.000000</td>\n",
       "      <td>28895.000000</td>\n",
       "      <td>28895.000000</td>\n",
       "      <td>28895.000000</td>\n",
       "      <td>28895.000000</td>\n",
       "      <td>28895.000000</td>\n",
       "      <td>28895.0</td>\n",
       "    </tr>\n",
       "    <tr>\n",
       "      <th>mean</th>\n",
       "      <td>14982.023603</td>\n",
       "      <td>160216.635404</td>\n",
       "      <td>35.432774</td>\n",
       "      <td>48969.827306</td>\n",
       "      <td>46785.692023</td>\n",
       "      <td>44137.033777</td>\n",
       "      <td>40403.488389</td>\n",
       "      <td>37513.701056</td>\n",
       "      <td>36080.862225</td>\n",
       "      <td>4562.220142</td>\n",
       "      <td>4447.269008</td>\n",
       "      <td>4012.836373</td>\n",
       "      <td>3787.136667</td>\n",
       "      <td>3738.329607</td>\n",
       "      <td>3760.918533</td>\n",
       "      <td>1.0</td>\n",
       "    </tr>\n",
       "    <tr>\n",
       "      <th>std</th>\n",
       "      <td>8659.069238</td>\n",
       "      <td>122687.148947</td>\n",
       "      <td>9.248021</td>\n",
       "      <td>69035.159571</td>\n",
       "      <td>66615.791304</td>\n",
       "      <td>63472.134297</td>\n",
       "      <td>59074.604769</td>\n",
       "      <td>55878.468897</td>\n",
       "      <td>54691.750471</td>\n",
       "      <td>8552.822858</td>\n",
       "      <td>8533.758023</td>\n",
       "      <td>8213.920741</td>\n",
       "      <td>8336.029787</td>\n",
       "      <td>8186.664707</td>\n",
       "      <td>8529.165085</td>\n",
       "      <td>0.0</td>\n",
       "    </tr>\n",
       "    <tr>\n",
       "      <th>min</th>\n",
       "      <td>1.000000</td>\n",
       "      <td>10000.000000</td>\n",
       "      <td>21.000000</td>\n",
       "      <td>-14386.000000</td>\n",
       "      <td>-69777.000000</td>\n",
       "      <td>-46127.000000</td>\n",
       "      <td>-65167.000000</td>\n",
       "      <td>-53007.000000</td>\n",
       "      <td>-94625.000000</td>\n",
       "      <td>0.000000</td>\n",
       "      <td>0.000000</td>\n",
       "      <td>0.000000</td>\n",
       "      <td>0.000000</td>\n",
       "      <td>0.000000</td>\n",
       "      <td>0.000000</td>\n",
       "      <td>1.0</td>\n",
       "    </tr>\n",
       "    <tr>\n",
       "      <th>25%</th>\n",
       "      <td>7483.500000</td>\n",
       "      <td>50000.000000</td>\n",
       "      <td>28.000000</td>\n",
       "      <td>3413.500000</td>\n",
       "      <td>2879.000000</td>\n",
       "      <td>2500.000000</td>\n",
       "      <td>2172.500000</td>\n",
       "      <td>1636.500000</td>\n",
       "      <td>1140.000000</td>\n",
       "      <td>907.000000</td>\n",
       "      <td>780.000000</td>\n",
       "      <td>390.000000</td>\n",
       "      <td>248.000000</td>\n",
       "      <td>199.000000</td>\n",
       "      <td>17.500000</td>\n",
       "      <td>1.0</td>\n",
       "    </tr>\n",
       "    <tr>\n",
       "      <th>50%</th>\n",
       "      <td>14982.000000</td>\n",
       "      <td>130000.000000</td>\n",
       "      <td>34.000000</td>\n",
       "      <td>21643.000000</td>\n",
       "      <td>20577.000000</td>\n",
       "      <td>19621.000000</td>\n",
       "      <td>18628.000000</td>\n",
       "      <td>17572.000000</td>\n",
       "      <td>16333.000000</td>\n",
       "      <td>2043.000000</td>\n",
       "      <td>2000.000000</td>\n",
       "      <td>1712.000000</td>\n",
       "      <td>1473.000000</td>\n",
       "      <td>1500.000000</td>\n",
       "      <td>1400.000000</td>\n",
       "      <td>1.0</td>\n",
       "    </tr>\n",
       "    <tr>\n",
       "      <th>75%</th>\n",
       "      <td>22462.000000</td>\n",
       "      <td>230000.000000</td>\n",
       "      <td>41.000000</td>\n",
       "      <td>64495.500000</td>\n",
       "      <td>60989.000000</td>\n",
       "      <td>57091.000000</td>\n",
       "      <td>50703.000000</td>\n",
       "      <td>48303.500000</td>\n",
       "      <td>47181.500000</td>\n",
       "      <td>5000.000000</td>\n",
       "      <td>5000.000000</td>\n",
       "      <td>4149.000000</td>\n",
       "      <td>3983.500000</td>\n",
       "      <td>3986.000000</td>\n",
       "      <td>3800.000000</td>\n",
       "      <td>1.0</td>\n",
       "    </tr>\n",
       "    <tr>\n",
       "      <th>max</th>\n",
       "      <td>30000.000000</td>\n",
       "      <td>500000.000000</td>\n",
       "      <td>79.000000</td>\n",
       "      <td>626648.000000</td>\n",
       "      <td>743970.000000</td>\n",
       "      <td>689643.000000</td>\n",
       "      <td>569034.000000</td>\n",
       "      <td>587067.000000</td>\n",
       "      <td>699944.000000</td>\n",
       "      <td>100000.000000</td>\n",
       "      <td>100000.000000</td>\n",
       "      <td>100000.000000</td>\n",
       "      <td>100000.000000</td>\n",
       "      <td>100000.000000</td>\n",
       "      <td>100000.000000</td>\n",
       "      <td>1.0</td>\n",
       "    </tr>\n",
       "  </tbody>\n",
       "</table>\n",
       "</div>"
      ],
      "text/plain": [
       "                 ID      LIMIT_BAL           AGE      BILL_AMT1  \\\n",
       "count  28895.000000   28895.000000  28895.000000   28895.000000   \n",
       "mean   14982.023603  160216.635404     35.432774   48969.827306   \n",
       "std     8659.069238  122687.148947      9.248021   69035.159571   \n",
       "min        1.000000   10000.000000     21.000000  -14386.000000   \n",
       "25%     7483.500000   50000.000000     28.000000    3413.500000   \n",
       "50%    14982.000000  130000.000000     34.000000   21643.000000   \n",
       "75%    22462.000000  230000.000000     41.000000   64495.500000   \n",
       "max    30000.000000  500000.000000     79.000000  626648.000000   \n",
       "\n",
       "           BILL_AMT2      BILL_AMT3      BILL_AMT4      BILL_AMT5  \\\n",
       "count   28895.000000   28895.000000   28895.000000   28895.000000   \n",
       "mean    46785.692023   44137.033777   40403.488389   37513.701056   \n",
       "std     66615.791304   63472.134297   59074.604769   55878.468897   \n",
       "min    -69777.000000  -46127.000000  -65167.000000  -53007.000000   \n",
       "25%      2879.000000    2500.000000    2172.500000    1636.500000   \n",
       "50%     20577.000000   19621.000000   18628.000000   17572.000000   \n",
       "75%     60989.000000   57091.000000   50703.000000   48303.500000   \n",
       "max    743970.000000  689643.000000  569034.000000  587067.000000   \n",
       "\n",
       "           BILL_AMT6       PAY_AMT1       PAY_AMT2       PAY_AMT3  \\\n",
       "count   28895.000000   28895.000000   28895.000000   28895.000000   \n",
       "mean    36080.862225    4562.220142    4447.269008    4012.836373   \n",
       "std     54691.750471    8552.822858    8533.758023    8213.920741   \n",
       "min    -94625.000000       0.000000       0.000000       0.000000   \n",
       "25%      1140.000000     907.000000     780.000000     390.000000   \n",
       "50%     16333.000000    2043.000000    2000.000000    1712.000000   \n",
       "75%     47181.500000    5000.000000    5000.000000    4149.000000   \n",
       "max    699944.000000  100000.000000  100000.000000  100000.000000   \n",
       "\n",
       "            PAY_AMT4       PAY_AMT5       PAY_AMT6        Q  \n",
       "count   28895.000000   28895.000000   28895.000000  28895.0  \n",
       "mean     3787.136667    3738.329607    3760.918533      1.0  \n",
       "std      8336.029787    8186.664707    8529.165085      0.0  \n",
       "min         0.000000       0.000000       0.000000      1.0  \n",
       "25%       248.000000     199.000000      17.500000      1.0  \n",
       "50%      1473.000000    1500.000000    1400.000000      1.0  \n",
       "75%      3983.500000    3986.000000    3800.000000      1.0  \n",
       "max    100000.000000  100000.000000  100000.000000      1.0  "
      ]
     },
     "execution_count": 58,
     "metadata": {},
     "output_type": "execute_result"
    }
   ],
   "source": [
    "credit9.describe()"
   ]
  },
  {
   "cell_type": "code",
   "execution_count": 59,
   "metadata": {},
   "outputs": [],
   "source": [
    "Q8=credit9.groupby('default payment next month').count().Q"
   ]
  },
  {
   "cell_type": "code",
   "execution_count": 60,
   "metadata": {},
   "outputs": [
    {
     "data": {
      "text/plain": [
       "default payment next month\n",
       "0    22385\n",
       "1     6510\n",
       "Name: Q, dtype: int64"
      ]
     },
     "execution_count": 60,
     "metadata": {},
     "output_type": "execute_result"
    }
   ],
   "source": [
    "Q8"
   ]
  },
  {
   "cell_type": "code",
   "execution_count": 61,
   "metadata": {},
   "outputs": [
    {
     "name": "stdout",
     "output_type": "stream",
     "text": [
      "                 ID  LIMIT_BAL       AGE  BILL_AMT1  BILL_AMT2  BILL_AMT3  \\\n",
      "ID         1.000000   0.027665  0.020156   0.017594   0.016247   0.023987   \n",
      "LIMIT_BAL  0.027665   1.000000  0.140396   0.259727   0.251466   0.248023   \n",
      "AGE        0.020156   0.140396  1.000000   0.050237   0.048200   0.046995   \n",
      "BILL_AMT1  0.017594   0.259727  0.050237   1.000000   0.965740   0.931330   \n",
      "BILL_AMT2  0.016247   0.251466  0.048200   0.965740   1.000000   0.960393   \n",
      "BILL_AMT3  0.023987   0.248023  0.046995   0.931330   0.960393   1.000000   \n",
      "BILL_AMT4  0.037659   0.252185  0.043153   0.894957   0.923846   0.957116   \n",
      "BILL_AMT5  0.011733   0.252437  0.042620   0.863512   0.891898   0.924005   \n",
      "BILL_AMT6  0.011719   0.244731  0.041762   0.839823   0.868544   0.899151   \n",
      "PAY_AMT1  -0.001143   0.239495  0.022670   0.218776   0.301533   0.266624   \n",
      "PAY_AMT2   0.015695   0.241619  0.028263   0.205119   0.206679   0.296802   \n",
      "PAY_AMT3   0.049409   0.239798  0.023369   0.183931   0.185173   0.184739   \n",
      "PAY_AMT4  -0.000025   0.225016  0.024987   0.187671   0.185068   0.184172   \n",
      "PAY_AMT5   0.001382   0.228675  0.023329   0.191106   0.193955   0.192778   \n",
      "PAY_AMT6   0.008181   0.230957  0.016682   0.185267   0.180738   0.179116   \n",
      "Q               NaN        NaN       NaN        NaN        NaN        NaN   \n",
      "\n",
      "           BILL_AMT4  BILL_AMT5  BILL_AMT6  PAY_AMT1  PAY_AMT2  PAY_AMT3  \\\n",
      "ID          0.037659   0.011733   0.011719 -0.001143  0.015695  0.049409   \n",
      "LIMIT_BAL   0.252185   0.252437   0.244731  0.239495  0.241619  0.239798   \n",
      "AGE         0.043153   0.042620   0.041762  0.022670  0.028263  0.023369   \n",
      "BILL_AMT1   0.894957   0.863512   0.839823  0.218776  0.205119  0.183931   \n",
      "BILL_AMT2   0.923846   0.891898   0.868544  0.301533  0.206679  0.185173   \n",
      "BILL_AMT3   0.957116   0.924005   0.899151  0.266624  0.296802  0.184739   \n",
      "BILL_AMT4   1.000000   0.960888   0.936066  0.252352  0.257536  0.281210   \n",
      "BILL_AMT5   0.960888   1.000000   0.968441  0.240057  0.239529  0.241622   \n",
      "BILL_AMT6   0.936066   0.968441   1.000000  0.226293  0.225198  0.227062   \n",
      "PAY_AMT1    0.252352   0.240057   0.226293  1.000000  0.303779  0.255226   \n",
      "PAY_AMT2    0.257536   0.239529   0.225198  0.303779  1.000000  0.255470   \n",
      "PAY_AMT3    0.281210   0.241622   0.227062  0.255226  0.255470  1.000000   \n",
      "PAY_AMT4    0.184925   0.284748   0.246751  0.230266  0.218537  0.227651   \n",
      "PAY_AMT5    0.196418   0.193146   0.291453  0.225689  0.228017  0.234088   \n",
      "PAY_AMT6    0.182346   0.184268   0.175049  0.218486  0.210657  0.216810   \n",
      "Q                NaN        NaN        NaN       NaN       NaN       NaN   \n",
      "\n",
      "           PAY_AMT4  PAY_AMT5  PAY_AMT6   Q  \n",
      "ID        -0.000025  0.001382  0.008181 NaN  \n",
      "LIMIT_BAL  0.225016  0.228675  0.230957 NaN  \n",
      "AGE        0.024987  0.023329  0.016682 NaN  \n",
      "BILL_AMT1  0.187671  0.191106  0.185267 NaN  \n",
      "BILL_AMT2  0.185068  0.193955  0.180738 NaN  \n",
      "BILL_AMT3  0.184172  0.192778  0.179116 NaN  \n",
      "BILL_AMT4  0.184925  0.196418  0.182346 NaN  \n",
      "BILL_AMT5  0.284748  0.193146  0.184268 NaN  \n",
      "BILL_AMT6  0.246751  0.291453  0.175049 NaN  \n",
      "PAY_AMT1   0.230266  0.225689  0.218486 NaN  \n",
      "PAY_AMT2   0.218537  0.228017  0.210657 NaN  \n",
      "PAY_AMT3   0.227651  0.234088  0.216810 NaN  \n",
      "PAY_AMT4   1.000000  0.241338  0.220869 NaN  \n",
      "PAY_AMT5   0.241338  1.000000  0.253062 NaN  \n",
      "PAY_AMT6   0.220869  0.253062  1.000000 NaN  \n",
      "Q               NaN       NaN       NaN NaN  \n"
     ]
    }
   ],
   "source": [
    "#Correlation\n",
    "corrMat2 = credit9.corr()\n",
    "print(corrMat2)"
   ]
  },
  {
   "cell_type": "code",
   "execution_count": 62,
   "metadata": {},
   "outputs": [],
   "source": [
    "credit10=credit9.filter([\"ID\", \"LIMIT_BAL\", \"SEX\", \"EDUCATION\", \"MARRIAGE\", \"AGE\", \"PAY_0\", \"PAY_2\", \"PAY_3\", \"PAY_4\", \"PAY_5\", \"PAY_6\",\n",
    "                \"BILL_AMT1\", \"BILL_AMT3\", \"BILL_AMT5\", \"PAY_AMT1\", \"PAY_AMT2\", \"PAY_AMT3\", \"PAY_AMT4\", \"PAY_AMT5\", \"PAY_AMT6\",\n",
    "               \"default payment next month\"]) "
   ]
  },
  {
   "cell_type": "code",
   "execution_count": 63,
   "metadata": {},
   "outputs": [
    {
     "name": "stdout",
     "output_type": "stream",
     "text": [
      "<class 'pandas.core.frame.DataFrame'>\n",
      "Int64Index: 28895 entries, 0 to 29999\n",
      "Data columns (total 22 columns):\n",
      "ID                            28895 non-null int64\n",
      "LIMIT_BAL                     28895 non-null int64\n",
      "SEX                           28895 non-null object\n",
      "EDUCATION                     28895 non-null object\n",
      "MARRIAGE                      28895 non-null object\n",
      "AGE                           28895 non-null int64\n",
      "PAY_0                         28895 non-null object\n",
      "PAY_2                         28895 non-null object\n",
      "PAY_3                         28895 non-null object\n",
      "PAY_4                         28895 non-null object\n",
      "PAY_5                         28895 non-null object\n",
      "PAY_6                         28895 non-null object\n",
      "BILL_AMT1                     28895 non-null int64\n",
      "BILL_AMT3                     28895 non-null int64\n",
      "BILL_AMT5                     28895 non-null int64\n",
      "PAY_AMT1                      28895 non-null int64\n",
      "PAY_AMT2                      28895 non-null int64\n",
      "PAY_AMT3                      28895 non-null int64\n",
      "PAY_AMT4                      28895 non-null int64\n",
      "PAY_AMT5                      28895 non-null int64\n",
      "PAY_AMT6                      28895 non-null int64\n",
      "default payment next month    28895 non-null object\n",
      "dtypes: int64(12), object(10)\n",
      "memory usage: 5.1+ MB\n"
     ]
    }
   ],
   "source": [
    "credit10.info()"
   ]
  },
  {
   "cell_type": "code",
   "execution_count": 64,
   "metadata": {},
   "outputs": [
    {
     "name": "stdout",
     "output_type": "stream",
     "text": [
      "                 ID  LIMIT_BAL       AGE  BILL_AMT1  BILL_AMT3  BILL_AMT5  \\\n",
      "ID         1.000000   0.027665  0.020156   0.017594   0.023987   0.011733   \n",
      "LIMIT_BAL  0.027665   1.000000  0.140396   0.259727   0.248023   0.252437   \n",
      "AGE        0.020156   0.140396  1.000000   0.050237   0.046995   0.042620   \n",
      "BILL_AMT1  0.017594   0.259727  0.050237   1.000000   0.931330   0.863512   \n",
      "BILL_AMT3  0.023987   0.248023  0.046995   0.931330   1.000000   0.924005   \n",
      "BILL_AMT5  0.011733   0.252437  0.042620   0.863512   0.924005   1.000000   \n",
      "PAY_AMT1  -0.001143   0.239495  0.022670   0.218776   0.266624   0.240057   \n",
      "PAY_AMT2   0.015695   0.241619  0.028263   0.205119   0.296802   0.239529   \n",
      "PAY_AMT3   0.049409   0.239798  0.023369   0.183931   0.184739   0.241622   \n",
      "PAY_AMT4  -0.000025   0.225016  0.024987   0.187671   0.184172   0.284748   \n",
      "PAY_AMT5   0.001382   0.228675  0.023329   0.191106   0.192778   0.193146   \n",
      "PAY_AMT6   0.008181   0.230957  0.016682   0.185267   0.179116   0.184268   \n",
      "\n",
      "           PAY_AMT1  PAY_AMT2  PAY_AMT3  PAY_AMT4  PAY_AMT5  PAY_AMT6  \n",
      "ID        -0.001143  0.015695  0.049409 -0.000025  0.001382  0.008181  \n",
      "LIMIT_BAL  0.239495  0.241619  0.239798  0.225016  0.228675  0.230957  \n",
      "AGE        0.022670  0.028263  0.023369  0.024987  0.023329  0.016682  \n",
      "BILL_AMT1  0.218776  0.205119  0.183931  0.187671  0.191106  0.185267  \n",
      "BILL_AMT3  0.266624  0.296802  0.184739  0.184172  0.192778  0.179116  \n",
      "BILL_AMT5  0.240057  0.239529  0.241622  0.284748  0.193146  0.184268  \n",
      "PAY_AMT1   1.000000  0.303779  0.255226  0.230266  0.225689  0.218486  \n",
      "PAY_AMT2   0.303779  1.000000  0.255470  0.218537  0.228017  0.210657  \n",
      "PAY_AMT3   0.255226  0.255470  1.000000  0.227651  0.234088  0.216810  \n",
      "PAY_AMT4   0.230266  0.218537  0.227651  1.000000  0.241338  0.220869  \n",
      "PAY_AMT5   0.225689  0.228017  0.234088  0.241338  1.000000  0.253062  \n",
      "PAY_AMT6   0.218486  0.210657  0.216810  0.220869  0.253062  1.000000  \n"
     ]
    }
   ],
   "source": [
    "#Correlation\n",
    "corrMat3 = credit10.corr()\n",
    "print(corrMat3)"
   ]
  },
  {
   "cell_type": "code",
   "execution_count": 65,
   "metadata": {},
   "outputs": [],
   "source": [
    "from pandas import ExcelWriter"
   ]
  },
  {
   "cell_type": "code",
   "execution_count": 66,
   "metadata": {},
   "outputs": [],
   "source": [
    "from pandas import ExcelFile"
   ]
  },
  {
   "cell_type": "code",
   "execution_count": 80,
   "metadata": {},
   "outputs": [],
   "source": [
    "writer = pd.ExcelWriter('NewCredit.xlsx', engine='xlsxwriter')"
   ]
  },
  {
   "cell_type": "code",
   "execution_count": 81,
   "metadata": {},
   "outputs": [],
   "source": [
    "credit10.to_excel(writer, index=False, sheet_name='NewCredit')"
   ]
  },
  {
   "cell_type": "code",
   "execution_count": 82,
   "metadata": {},
   "outputs": [],
   "source": [
    "writer.save()"
   ]
  },
  {
   "cell_type": "code",
   "execution_count": 71,
   "metadata": {},
   "outputs": [
    {
     "data": {
      "text/html": [
       "<div>\n",
       "<style scoped>\n",
       "    .dataframe tbody tr th:only-of-type {\n",
       "        vertical-align: middle;\n",
       "    }\n",
       "\n",
       "    .dataframe tbody tr th {\n",
       "        vertical-align: top;\n",
       "    }\n",
       "\n",
       "    .dataframe thead th {\n",
       "        text-align: right;\n",
       "    }\n",
       "</style>\n",
       "<table border=\"1\" class=\"dataframe\">\n",
       "  <thead>\n",
       "    <tr style=\"text-align: right;\">\n",
       "      <th></th>\n",
       "      <th>ID</th>\n",
       "      <th>LIMIT_BAL</th>\n",
       "      <th>AGE</th>\n",
       "      <th>BILL_AMT1</th>\n",
       "      <th>BILL_AMT3</th>\n",
       "      <th>BILL_AMT5</th>\n",
       "      <th>PAY_AMT1</th>\n",
       "      <th>PAY_AMT2</th>\n",
       "      <th>PAY_AMT3</th>\n",
       "      <th>PAY_AMT4</th>\n",
       "      <th>PAY_AMT5</th>\n",
       "      <th>PAY_AMT6</th>\n",
       "    </tr>\n",
       "  </thead>\n",
       "  <tbody>\n",
       "    <tr>\n",
       "      <th>count</th>\n",
       "      <td>28895.000000</td>\n",
       "      <td>28895.000000</td>\n",
       "      <td>28895.000000</td>\n",
       "      <td>28895.000000</td>\n",
       "      <td>28895.000000</td>\n",
       "      <td>28895.000000</td>\n",
       "      <td>28895.000000</td>\n",
       "      <td>28895.000000</td>\n",
       "      <td>28895.000000</td>\n",
       "      <td>28895.000000</td>\n",
       "      <td>28895.000000</td>\n",
       "      <td>28895.000000</td>\n",
       "    </tr>\n",
       "    <tr>\n",
       "      <th>mean</th>\n",
       "      <td>14982.023603</td>\n",
       "      <td>160216.635404</td>\n",
       "      <td>35.432774</td>\n",
       "      <td>48969.827306</td>\n",
       "      <td>44137.033777</td>\n",
       "      <td>37513.701056</td>\n",
       "      <td>4562.220142</td>\n",
       "      <td>4447.269008</td>\n",
       "      <td>4012.836373</td>\n",
       "      <td>3787.136667</td>\n",
       "      <td>3738.329607</td>\n",
       "      <td>3760.918533</td>\n",
       "    </tr>\n",
       "    <tr>\n",
       "      <th>std</th>\n",
       "      <td>8659.069238</td>\n",
       "      <td>122687.148947</td>\n",
       "      <td>9.248021</td>\n",
       "      <td>69035.159571</td>\n",
       "      <td>63472.134297</td>\n",
       "      <td>55878.468897</td>\n",
       "      <td>8552.822858</td>\n",
       "      <td>8533.758023</td>\n",
       "      <td>8213.920741</td>\n",
       "      <td>8336.029787</td>\n",
       "      <td>8186.664707</td>\n",
       "      <td>8529.165085</td>\n",
       "    </tr>\n",
       "    <tr>\n",
       "      <th>min</th>\n",
       "      <td>1.000000</td>\n",
       "      <td>10000.000000</td>\n",
       "      <td>21.000000</td>\n",
       "      <td>-14386.000000</td>\n",
       "      <td>-46127.000000</td>\n",
       "      <td>-53007.000000</td>\n",
       "      <td>0.000000</td>\n",
       "      <td>0.000000</td>\n",
       "      <td>0.000000</td>\n",
       "      <td>0.000000</td>\n",
       "      <td>0.000000</td>\n",
       "      <td>0.000000</td>\n",
       "    </tr>\n",
       "    <tr>\n",
       "      <th>25%</th>\n",
       "      <td>7483.500000</td>\n",
       "      <td>50000.000000</td>\n",
       "      <td>28.000000</td>\n",
       "      <td>3413.500000</td>\n",
       "      <td>2500.000000</td>\n",
       "      <td>1636.500000</td>\n",
       "      <td>907.000000</td>\n",
       "      <td>780.000000</td>\n",
       "      <td>390.000000</td>\n",
       "      <td>248.000000</td>\n",
       "      <td>199.000000</td>\n",
       "      <td>17.500000</td>\n",
       "    </tr>\n",
       "    <tr>\n",
       "      <th>50%</th>\n",
       "      <td>14982.000000</td>\n",
       "      <td>130000.000000</td>\n",
       "      <td>34.000000</td>\n",
       "      <td>21643.000000</td>\n",
       "      <td>19621.000000</td>\n",
       "      <td>17572.000000</td>\n",
       "      <td>2043.000000</td>\n",
       "      <td>2000.000000</td>\n",
       "      <td>1712.000000</td>\n",
       "      <td>1473.000000</td>\n",
       "      <td>1500.000000</td>\n",
       "      <td>1400.000000</td>\n",
       "    </tr>\n",
       "    <tr>\n",
       "      <th>75%</th>\n",
       "      <td>22462.000000</td>\n",
       "      <td>230000.000000</td>\n",
       "      <td>41.000000</td>\n",
       "      <td>64495.500000</td>\n",
       "      <td>57091.000000</td>\n",
       "      <td>48303.500000</td>\n",
       "      <td>5000.000000</td>\n",
       "      <td>5000.000000</td>\n",
       "      <td>4149.000000</td>\n",
       "      <td>3983.500000</td>\n",
       "      <td>3986.000000</td>\n",
       "      <td>3800.000000</td>\n",
       "    </tr>\n",
       "    <tr>\n",
       "      <th>max</th>\n",
       "      <td>30000.000000</td>\n",
       "      <td>500000.000000</td>\n",
       "      <td>79.000000</td>\n",
       "      <td>626648.000000</td>\n",
       "      <td>689643.000000</td>\n",
       "      <td>587067.000000</td>\n",
       "      <td>100000.000000</td>\n",
       "      <td>100000.000000</td>\n",
       "      <td>100000.000000</td>\n",
       "      <td>100000.000000</td>\n",
       "      <td>100000.000000</td>\n",
       "      <td>100000.000000</td>\n",
       "    </tr>\n",
       "  </tbody>\n",
       "</table>\n",
       "</div>"
      ],
      "text/plain": [
       "                 ID      LIMIT_BAL           AGE      BILL_AMT1  \\\n",
       "count  28895.000000   28895.000000  28895.000000   28895.000000   \n",
       "mean   14982.023603  160216.635404     35.432774   48969.827306   \n",
       "std     8659.069238  122687.148947      9.248021   69035.159571   \n",
       "min        1.000000   10000.000000     21.000000  -14386.000000   \n",
       "25%     7483.500000   50000.000000     28.000000    3413.500000   \n",
       "50%    14982.000000  130000.000000     34.000000   21643.000000   \n",
       "75%    22462.000000  230000.000000     41.000000   64495.500000   \n",
       "max    30000.000000  500000.000000     79.000000  626648.000000   \n",
       "\n",
       "           BILL_AMT3      BILL_AMT5       PAY_AMT1       PAY_AMT2  \\\n",
       "count   28895.000000   28895.000000   28895.000000   28895.000000   \n",
       "mean    44137.033777   37513.701056    4562.220142    4447.269008   \n",
       "std     63472.134297   55878.468897    8552.822858    8533.758023   \n",
       "min    -46127.000000  -53007.000000       0.000000       0.000000   \n",
       "25%      2500.000000    1636.500000     907.000000     780.000000   \n",
       "50%     19621.000000   17572.000000    2043.000000    2000.000000   \n",
       "75%     57091.000000   48303.500000    5000.000000    5000.000000   \n",
       "max    689643.000000  587067.000000  100000.000000  100000.000000   \n",
       "\n",
       "            PAY_AMT3       PAY_AMT4       PAY_AMT5       PAY_AMT6  \n",
       "count   28895.000000   28895.000000   28895.000000   28895.000000  \n",
       "mean     4012.836373    3787.136667    3738.329607    3760.918533  \n",
       "std      8213.920741    8336.029787    8186.664707    8529.165085  \n",
       "min         0.000000       0.000000       0.000000       0.000000  \n",
       "25%       390.000000     248.000000     199.000000      17.500000  \n",
       "50%      1712.000000    1473.000000    1500.000000    1400.000000  \n",
       "75%      4149.000000    3983.500000    3986.000000    3800.000000  \n",
       "max    100000.000000  100000.000000  100000.000000  100000.000000  "
      ]
     },
     "execution_count": 71,
     "metadata": {},
     "output_type": "execute_result"
    }
   ],
   "source": [
    "credit10.describe()"
   ]
  }
 ],
 "metadata": {
  "kernelspec": {
   "display_name": "Python 3",
   "language": "python",
   "name": "python3"
  },
  "language_info": {
   "codemirror_mode": {
    "name": "ipython",
    "version": 3
   },
   "file_extension": ".py",
   "mimetype": "text/x-python",
   "name": "python",
   "nbconvert_exporter": "python",
   "pygments_lexer": "ipython3",
   "version": "3.7.3"
  }
 },
 "nbformat": 4,
 "nbformat_minor": 2
}
